{
 "cells": [
  {
   "cell_type": "code",
   "execution_count": 4,
   "id": "1f827343",
   "metadata": {},
   "outputs": [
    {
     "data": {
      "text/plain": [
       "False"
      ]
     },
     "execution_count": 4,
     "metadata": {},
     "output_type": "execute_result"
    }
   ],
   "source": [
    "def is_prime(n):\n",
    "    if n%6==1 or n%6==5:\n",
    "        return True\n",
    "    else:\n",
    "        return False\n",
    "    \n",
    "is_prime(12)"
   ]
  },
  {
   "cell_type": "code",
   "execution_count": 5,
   "id": "fb298f5c",
   "metadata": {},
   "outputs": [
    {
     "data": {
      "text/plain": [
       "True"
      ]
     },
     "execution_count": 5,
     "metadata": {},
     "output_type": "execute_result"
    }
   ],
   "source": [
    "is_prime(11)"
   ]
  },
  {
   "cell_type": "code",
   "execution_count": 6,
   "id": "e16841a5",
   "metadata": {},
   "outputs": [],
   "source": [
    "def is_prime(n):\n",
    "    if n < 2:\n",
    "        return False\n",
    "    for i in range(2, int(n**0.5)+1):\n",
    "        if n % i == 0:\n",
    "            return False\n",
    "    return True\n"
   ]
  },
  {
   "cell_type": "code",
   "execution_count": 7,
   "id": "4496f741",
   "metadata": {},
   "outputs": [
    {
     "data": {
      "text/plain": [
       "False"
      ]
     },
     "execution_count": 7,
     "metadata": {},
     "output_type": "execute_result"
    }
   ],
   "source": [
    "is_prime(25)"
   ]
  },
  {
   "cell_type": "code",
   "execution_count": 43,
   "id": "8fd5b3b2",
   "metadata": {},
   "outputs": [
    {
     "name": "stdout",
     "output_type": "stream",
     "text": [
      "5\n"
     ]
    }
   ],
   "source": [
    "def digit_sum(k):\n",
    "     result=0\n",
    "     for i in str(k):\n",
    "           result+=int(i)\n",
    "     print(result)         \n",
    "      \n",
    "digit_sum(203)"
   ]
  },
  {
   "cell_type": "code",
   "execution_count": 46,
   "id": "ae2c7946",
   "metadata": {},
   "outputs": [
    {
     "name": "stdout",
     "output_type": "stream",
     "text": [
      "45\n"
     ]
    }
   ],
   "source": [
    "digit_sum(123456789)"
   ]
  },
  {
   "cell_type": "code",
   "execution_count": 55,
   "id": "cdeebe93",
   "metadata": {},
   "outputs": [
    {
     "name": "stdout",
     "output_type": "stream",
     "text": [
      "[1, 2, 4, 8, 16, 32]\n"
     ]
    }
   ],
   "source": [
    "def power_two(N):\n",
    "    result=[]\n",
    "    import math\n",
    "    for k in range(int(math.log2(N))+1):\n",
    "        result.append(2**k)\n",
    "    print(result)\n",
    "\n",
    "power_two(60)\n",
    "\n"
   ]
  }
 ],
 "metadata": {
  "kernelspec": {
   "display_name": "Python 3",
   "language": "python",
   "name": "python3"
  },
  "language_info": {
   "codemirror_mode": {
    "name": "ipython",
    "version": 3
   },
   "file_extension": ".py",
   "mimetype": "text/x-python",
   "name": "python",
   "nbconvert_exporter": "python",
   "pygments_lexer": "ipython3",
   "version": "3.13.2"
  }
 },
 "nbformat": 4,
 "nbformat_minor": 5
}
