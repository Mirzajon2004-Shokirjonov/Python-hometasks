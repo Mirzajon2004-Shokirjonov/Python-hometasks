{
 "cells": [
  {
   "cell_type": "code",
   "execution_count": 4,
   "metadata": {},
   "outputs": [
    {
     "name": "stdout",
     "output_type": "stream",
     "text": [
      "28.0 sm\n",
      "49.0 smsqr\n"
     ]
    }
   ],
   "source": [
    "a=float(input('Enter amount of square side'))\n",
    "P=4*a\n",
    "A=a**2\n",
    "print(P,'sm')\n",
    "print(A,'smsqr')\n"
   ]
  },
  {
   "cell_type": "code",
   "execution_count": 6,
   "metadata": {},
   "outputs": [
    {
     "name": "stdout",
     "output_type": "stream",
     "text": [
      "37.714285714285715\n"
     ]
    }
   ],
   "source": [
    "diameter=float(input('what is diameter of circle'))\n",
    "length_of_circle=diameter*22/7\n",
    "print(length_of_circle)\n"
   ]
  },
  {
   "cell_type": "code",
   "execution_count": 8,
   "metadata": {},
   "outputs": [
    {
     "name": "stdout",
     "output_type": "stream",
     "text": [
      "29.0\n"
     ]
    }
   ],
   "source": [
    "a=float(input('Enter first number'))\n",
    "b=float(input('Enter second number'))\n",
    "mean=(a+b)/2\n",
    "print(mean)"
   ]
  },
  {
   "cell_type": "code",
   "execution_count": 9,
   "metadata": {},
   "outputs": [
    {
     "name": "stdout",
     "output_type": "stream",
     "text": [
      "8.72\n",
      "15.0096\n",
      "5.569599999999999\n",
      "40.449600000000004\n"
     ]
    }
   ],
   "source": [
    "first_number=float(input('What is first number?'))\n",
    "second_number=float(input('What is second number?'))\n",
    "sum=first_number+second_number\n",
    "product=first_number*second_number\n",
    "first_number_square=pow(first_number,2)\n",
    "second_number_square=pow(second_number,2)\n",
    "print(sum)\n",
    "print(product)\n",
    "print(first_number_square)\n",
    "print(second_number_square)"
   ]
  },
  {
   "cell_type": "code",
   "execution_count": 1,
   "metadata": {},
   "outputs": [
    {
     "name": "stdout",
     "output_type": "stream",
     "text": [
      "even\n"
     ]
    }
   ],
   "source": [
    "number=int(input('enter number'))\n",
    "if number%2==0:\n",
    "    print('odd')\n",
    "else:\n",
    "    print('even')"
   ]
  },
  {
   "cell_type": "code",
   "execution_count": 7,
   "metadata": {},
   "outputs": [
    {
     "name": "stdout",
     "output_type": "stream",
     "text": [
      "vowel\n",
      "vowel\n",
      "vowel\n",
      "vowel\n",
      "vowel\n"
     ]
    }
   ],
   "source": [
    "character=input('Enter character').lower()\n",
    "a='a','e','u','i','o'\n",
    "for character in a:\n",
    "  print('vowel')\n",
    " \n"
   ]
  },
  {
   "cell_type": "code",
   "execution_count": null,
   "metadata": {},
   "outputs": [
    {
     "name": "stdout",
     "output_type": "stream",
     "text": [
      "78\n"
     ]
    }
   ],
   "source": [
    " "
   ]
  },
  {
   "cell_type": "code",
   "execution_count": null,
   "metadata": {},
   "outputs": [
    {
     "ename": "ValueError",
     "evalue": "invalid literal for int() with base 10: '45 45 89'",
     "output_type": "error",
     "traceback": [
      "\u001b[31m---------------------------------------------------------------------------\u001b[39m",
      "\u001b[31mValueError\u001b[39m                                Traceback (most recent call last)",
      "\u001b[36mCell\u001b[39m\u001b[36m \u001b[39m\u001b[32mIn[3]\u001b[39m\u001b[32m, line 1\u001b[39m\n\u001b[32m----> \u001b[39m\u001b[32m1\u001b[39m number_3=\u001b[38;5;28;43mint\u001b[39;49m\u001b[43m(\u001b[49m\u001b[38;5;28;43minput\u001b[39;49m\u001b[43m(\u001b[49m\u001b[33;43m'\u001b[39;49m\u001b[33;43menter 3 number\u001b[39;49m\u001b[33;43m'\u001b[39;49m\u001b[43m)\u001b[49m\u001b[43m)\u001b[49m\n\u001b[32m      2\u001b[39m number_4=number_3\n\u001b[32m      3\u001b[39m maxeri=\u001b[38;5;28mmax\u001b[39m(number_4)\n",
      "\u001b[31mValueError\u001b[39m: invalid literal for int() with base 10: '45 45 89'"
     ]
    }
   ],
   "source": [
    "number_3=int(input('enter 3 number'))\n",
    " "
   ]
  },
  {
   "cell_type": "code",
   "execution_count": 8,
   "metadata": {},
   "outputs": [
    {
     "name": "stdout",
     "output_type": "stream",
     "text": [
      "232.77777777777777C\n",
      "Temperature is hot\n"
     ]
    }
   ],
   "source": [
    "#(95f-32)*5/9=35c\n",
    "a=float(input('give temperature Fanrenheit'))\n",
    "celsius=(a-32)*5/9\n",
    "print(f'{celsius}C')\n",
    "if celsius>=25:\n",
    "    print('Temperature is hot')\n",
    " \n",
    "elif celsius>=40:\n",
    "    print('Do not outside')\n"
   ]
  },
  {
   "cell_type": "code",
   "execution_count": null,
   "metadata": {},
   "outputs": [],
   "source": [
    "# destination 0--Tashkent to Paris, France\n",
    "# destination 1-Tashkent to Kyoto, Japan\n",
    "destination_number=int(input('Enter 0 for Tashkent to Paris,enter 1 Tashkent to Kyoto '))\n",
    "day=input('what day are flying(weekday)').lower()\n",
    "\n",
    "# 0 is Economy,1 is Premium economy,2-business class\n",
    "type_ofseat=int(input('please enter desired number 0 is Economy,1 is Premium economy,2-business class'))\n"
   ]
  },
  {
   "cell_type": "code",
   "execution_count": 20,
   "metadata": {},
   "outputs": [
    {
     "name": "stdout",
     "output_type": "stream",
     "text": [
      "Your salary is 800.0$ \n"
     ]
    }
   ],
   "source": [
    "hours=float(input('how many hours did you work'))\n",
    "payment=20\n",
    "if hours>40:\n",
    "    print(f'your slary is {1.5*(hours-40)*payment+(hours-1)*payment}$')\n",
    "elif hours==40:\n",
    "    print(f'Your salary is {hours*payment}$ ')\n",
    "else:\n",
    "    print('You are fired ,lazy')"
   ]
  },
  {
   "cell_type": "code",
   "execution_count": null,
   "metadata": {},
   "outputs": [
    {
     "name": "stdout",
     "output_type": "stream",
     "text": [
      "[12, 56, 78, 90, 123]\n",
      "123\n"
     ]
    }
   ],
   "source": [
    "alist=[12,23,34,56]\n",
    "blist =input(\"enter\").split()\n",
    "bnint=[int(x) for x in blist]\n",
    "print(bnint)\n",
    "type(bnint)\n",
    "maxv=max(bnint)\n",
    "print(maxv)\n",
    "\n",
    "  \n",
    " "
   ]
  },
  {
   "cell_type": "code",
   "execution_count": 58,
   "metadata": {},
   "outputs": [
    {
     "data": {
      "text/plain": [
       "tuple"
      ]
     },
     "execution_count": 58,
     "metadata": {},
     "output_type": "execute_result"
    }
   ],
   "source": [
    "xx= '12','12'\n",
    "type(xx)"
   ]
  },
  {
   "cell_type": "code",
   "execution_count": 61,
   "metadata": {},
   "outputs": [
    {
     "name": "stdout",
     "output_type": "stream",
     "text": [
      "12345\n"
     ]
    }
   ],
   "source": [
    "numbers=input('Enter numbers with space !!').split()\n",
    "intnum=[int(y) for y in numbers]\n",
    "maxr=max(intnum)\n",
    "print(maxr)"
   ]
  },
  {
   "cell_type": "code",
   "execution_count": null,
   "metadata": {},
   "outputs": [
    {
     "name": "stdout",
     "output_type": "stream",
     "text": [
      "None\n"
     ]
    }
   ],
   "source": [
    "pets=['Puppy','cat','rabbit','parrot']\n",
    "pets.remove('cat')\n",
    "animals=['lion','elephant','giraffe']\n",
    "pets.extend(animals)\n",
    "print(  pets)"
   ]
  },
  {
   "cell_type": "code",
   "execution_count": 82,
   "metadata": {},
   "outputs": [
    {
     "name": "stdout",
     "output_type": "stream",
     "text": [
      "6912\n"
     ]
    }
   ],
   "source": [
    "numbers = input('enter numbers to add').split()\n",
    "intnums=[int(x) for x in numbers]\n",
    "total=sum( intnums)\n",
    "print(total)"
   ]
  },
  {
   "cell_type": "code",
   "execution_count": 89,
   "metadata": {},
   "outputs": [
    {
     "name": "stdout",
     "output_type": "stream",
     "text": [
      "{'Name': 'Khusan', 'Age': '25', 'Region': 'Namangan'}\n"
     ]
    },
    {
     "ename": "TypeError",
     "evalue": "'list' object is not callable",
     "output_type": "error",
     "traceback": [
      "\u001b[31m---------------------------------------------------------------------------\u001b[39m",
      "\u001b[31mTypeError\u001b[39m                                 Traceback (most recent call last)",
      "\u001b[36mCell\u001b[39m\u001b[36m \u001b[39m\u001b[32mIn[89]\u001b[39m\u001b[32m, line 3\u001b[39m\n\u001b[32m      1\u001b[39m dictionary={\u001b[33m\"\u001b[39m\u001b[33mName\u001b[39m\u001b[33m\"\u001b[39m:\u001b[33m'\u001b[39m\u001b[33mKhusan\u001b[39m\u001b[33m'\u001b[39m,\u001b[33m\"\u001b[39m\u001b[33mAge\u001b[39m\u001b[33m\"\u001b[39m:\u001b[33m'\u001b[39m\u001b[33m25\u001b[39m\u001b[33m'\u001b[39m,\u001b[33m\"\u001b[39m\u001b[33mRegion\u001b[39m\u001b[33m\"\u001b[39m:\u001b[33m'\u001b[39m\u001b[33mNamangan\u001b[39m\u001b[33m'\u001b[39m}\n\u001b[32m      2\u001b[39m \u001b[38;5;28mprint\u001b[39m(dictionary)\n\u001b[32m----> \u001b[39m\u001b[32m3\u001b[39m sorting=\u001b[38;5;28mdict\u001b[39m(\u001b[38;5;28;43msorted\u001b[39;49m\u001b[43m(\u001b[49m\u001b[43mdictionary\u001b[49m\u001b[43m.\u001b[49m\u001b[43mitems\u001b[49m\u001b[43m(\u001b[49m\u001b[43m)\u001b[49m\u001b[43m,\u001b[49m\u001b[43mkey\u001b[49m\u001b[43m=\u001b[49m\u001b[38;5;28;43msorted\u001b[39;49m\u001b[43m(\u001b[49m\u001b[43mdictionary\u001b[49m\u001b[43m.\u001b[49m\u001b[43mvalues\u001b[49m\u001b[43m(\u001b[49m\u001b[43m)\u001b[49m\u001b[43m)\u001b[49m\u001b[43m)\u001b[49m)\n\u001b[32m      4\u001b[39m \u001b[38;5;28mprint\u001b[39m(sorting)\n",
      "\u001b[31mTypeError\u001b[39m: 'list' object is not callable"
     ]
    }
   ],
   "source": [
    "dictionary={\"Name\":'Khusan',\"Age\":'25',\"Region\":'Namangan'}\n",
    "print(dictionary)\n",
    "sorting=dict(sorted(dictionary.items(),key=sorted(dictionary.values())))\n",
    "print(sorting)"
   ]
  },
  {
   "cell_type": "code",
   "execution_count": 91,
   "metadata": {},
   "outputs": [
    {
     "data": {
      "text/plain": [
       "dict_values(['Khusan', '25', 'Namangan'])"
      ]
     },
     "execution_count": 91,
     "metadata": {},
     "output_type": "execute_result"
    }
   ],
   "source": [
    "dictionary.values()"
   ]
  },
  {
   "cell_type": "code",
   "execution_count": 100,
   "metadata": {},
   "outputs": [
    {
     "name": "stdout",
     "output_type": "stream",
     "text": [
      "25\n"
     ]
    }
   ],
   "source": [
    "print(dictionary['Age'])"
   ]
  },
  {
   "cell_type": "code",
   "execution_count": 102,
   "metadata": {},
   "outputs": [
    {
     "name": "stdout",
     "output_type": "stream",
     "text": [
      "{0: 10, 1: 20, 2: 30}\n"
     ]
    }
   ],
   "source": [
    "dict1={0: 10, 1: 20}\n",
    "dict1.update({2:30})\n",
    "print(dict1)"
   ]
  },
  {
   "cell_type": "code",
   "execution_count": null,
   "metadata": {},
   "outputs": [
    {
     "name": "stdout",
     "output_type": "stream",
     "text": [
      "{1: 10, 2: 20, 3: 30, 4: 40, 5: 50, 6: 60}\n",
      "(6, 60)\n"
     ]
    }
   ],
   "source": [
    "dic1 = {1: 10, 2: 20}\n",
    "dic2 = {3: 30, 4: 40}\n",
    "dic3 = {5: 50, 6: 60}\n",
    " \n",
    "dic1.update(dic2)\n",
    "dic1.update(dic3)\n",
    "print(dic1)\n",
    " \n",
    "dic1.popitem\n",
    "print(dic1.pop())"
   ]
  },
  {
   "cell_type": "code",
   "execution_count": 115,
   "metadata": {},
   "outputs": [
    {
     "name": "stdout",
     "output_type": "stream",
     "text": [
      "{1: 10, 2: 20, 3: 30, 4: 40, 5: 50, 6: 60}\n"
     ]
    }
   ],
   "source": [
    "dic1 = {1: 10, 2: 20}\n",
    "dic2 = {3: 30, 4: 40}\n",
    "dic3 = {5: 50, 6: 60}\n",
    "merged={}\n",
    "for d in (dic1,dic2,dic3):\n",
    "     merged.update(d)\n",
    "print(merged)"
   ]
  },
  {
   "cell_type": "code",
   "execution_count": 131,
   "metadata": {},
   "outputs": [
    {
     "name": "stdout",
     "output_type": "stream",
     "text": [
      "1:1\n"
     ]
    },
    {
     "ename": "ValueError",
     "evalue": "dictionary update sequence element #0 has length 1; 2 is required",
     "output_type": "error",
     "traceback": [
      "\u001b[31m---------------------------------------------------------------------------\u001b[39m",
      "\u001b[31mValueError\u001b[39m                                Traceback (most recent call last)",
      "\u001b[36mCell\u001b[39m\u001b[36m \u001b[39m\u001b[32mIn[131]\u001b[39m\u001b[32m, line 5\u001b[39m\n\u001b[32m      3\u001b[39m \u001b[38;5;28;01mfor\u001b[39;00m x \u001b[38;5;129;01min\u001b[39;00m \u001b[38;5;28mrange\u001b[39m(\u001b[32m1\u001b[39m,n):\n\u001b[32m      4\u001b[39m     \u001b[38;5;28mprint\u001b[39m(\u001b[33mf\u001b[39m\u001b[33m'\u001b[39m\u001b[38;5;132;01m{\u001b[39;00mx\u001b[38;5;132;01m}\u001b[39;00m\u001b[33m:\u001b[39m\u001b[38;5;132;01m{\u001b[39;00mx**\u001b[32m2\u001b[39m\u001b[38;5;132;01m}\u001b[39;00m\u001b[33m'\u001b[39m)\n\u001b[32m----> \u001b[39m\u001b[32m5\u001b[39m     \u001b[38;5;28mprint\u001b[39m(\u001b[43mmerged_form\u001b[49m\u001b[43m.\u001b[49m\u001b[43mupdate\u001b[49m\u001b[43m(\u001b[49m\u001b[33;43mf\u001b[39;49m\u001b[33;43m'\u001b[39;49m\u001b[38;5;132;43;01m{\u001b[39;49;00m\u001b[43mx\u001b[49m\u001b[38;5;132;43;01m}\u001b[39;49;00m\u001b[33;43m:\u001b[39;49m\u001b[38;5;132;43;01m{\u001b[39;49;00m\u001b[43mx\u001b[49m\u001b[43m*\u001b[49m\u001b[43m*\u001b[49m\u001b[32;43m2\u001b[39;49m\u001b[38;5;132;43;01m}\u001b[39;49;00m\u001b[33;43m'\u001b[39;49m\u001b[43m)\u001b[49m)\n",
      "\u001b[31mValueError\u001b[39m: dictionary update sequence element #0 has length 1; 2 is required"
     ]
    }
   ],
   "source": [
    "merged_form={}\n",
    "n=int(input('to which number square '))+1\n",
    "for x in range(1,n):\n",
    "    print(f'{x}:{x**2}')\n",
    "    print(merged_form.update(f'{x}:{x**2}'))"
   ]
  },
  {
   "cell_type": "code",
   "execution_count": null,
   "metadata": {},
   "outputs": [
    {
     "name": "stdout",
     "output_type": "stream",
     "text": [
      "2\n",
      "\n",
      "    _______\n",
      "---'   ____)_____\n",
      "          _______)\n",
      "       ___________)\n",
      "      (_____)\n",
      "---.__(____)\n",
      "\n",
      "1\n",
      "\n",
      "     _______\n",
      "---'    _____)_____\n",
      "           ________)\n",
      "          _________)\n",
      "         _________)\n",
      "---.____________)\n",
      "\n",
      "You lose\n"
     ]
    }
   ],
   "source": []
  },
  {
   "cell_type": "code",
   "execution_count": 132,
   "metadata": {},
   "outputs": [
    {
     "name": "stdout",
     "output_type": "stream",
     "text": [
      "{1: 1, 2: 4, 3: 9, 4: 16, 5: 25, 6: 36, 7: 49, 8: 64, 9: 81, 10: 100, 11: 121, 12: 144, 13: 169, 14: 196, 15: 225}\n"
     ]
    }
   ],
   "source": [
    "squares_dict = {}\n",
    "for x in range(1, 16):\n",
    "    squares_dict[x] = x**2\n",
    "\n",
    "print(squares_dict)\n"
   ]
  },
  {
   "cell_type": "code",
   "execution_count": 133,
   "metadata": {},
   "outputs": [
    {
     "name": "stdout",
     "output_type": "stream",
     "text": [
      "{1: 1, 2: 4, 3: 9, 4: 16, 5: 25, 6: 36, 7: 49, 8: 64, 9: 81, 10: 100, 11: 121, 12: 144, 13: 169, 14: 196, 15: 225}\n"
     ]
    }
   ],
   "source": [
    "squares_dict = {x: x**2 for x in range(1, 16)}\n",
    "print(squares_dict)\n"
   ]
  },
  {
   "cell_type": "code",
   "execution_count": null,
   "metadata": {},
   "outputs": [
    {
     "name": "stdout",
     "output_type": "stream",
     "text": [
      "<generator object <genexpr> at 0x00000187403D5F20>\n",
      "<generator object <genexpr> at 0x00000187403D5F20>\n",
      "<generator object <genexpr> at 0x00000187403D5F20>\n",
      "<generator object <genexpr> at 0x00000187403D5F20>\n",
      "<generator object <genexpr> at 0x00000187403D5F20>\n",
      "<generator object <genexpr> at 0x00000187403D5F20>\n",
      "<generator object <genexpr> at 0x00000187403D5F20>\n",
      "<generator object <genexpr> at 0x00000187403D5F20>\n",
      "<generator object <genexpr> at 0x00000187403D5F20>\n"
     ]
    }
   ],
   "source": [
    "matrix=[[9,8,7],[6,5,4],[3,2,1]]\n",
    "matrix2=[]\n",
    "for i in matrix:\n",
    "     for j in i:\n",
    "          print( j*3 )\n",
    "           \n",
    "           "
   ]
  },
  {
   "cell_type": "code",
   "execution_count": 160,
   "metadata": {},
   "outputs": [
    {
     "ename": "UnboundLocalError",
     "evalue": "cannot access local variable 'num' where it is not associated with a value",
     "output_type": "error",
     "traceback": [
      "\u001b[31m---------------------------------------------------------------------------\u001b[39m",
      "\u001b[31mUnboundLocalError\u001b[39m                         Traceback (most recent call last)",
      "\u001b[36mCell\u001b[39m\u001b[36m \u001b[39m\u001b[32mIn[160]\u001b[39m\u001b[32m, line 10\u001b[39m\n\u001b[32m      8\u001b[39m     \u001b[38;5;28;01mfor\u001b[39;00m i \u001b[38;5;129;01min\u001b[39;00m roman_map:\n\u001b[32m      9\u001b[39m      num+=roman_map.values()\n\u001b[32m---> \u001b[39m\u001b[32m10\u001b[39m \u001b[43mroman\u001b[49m\u001b[43m(\u001b[49m\u001b[33;43m'\u001b[39;49m\u001b[33;43mX\u001b[39;49m\u001b[33;43m'\u001b[39;49m\u001b[43m)\u001b[49m\n",
      "\u001b[36mCell\u001b[39m\u001b[36m \u001b[39m\u001b[32mIn[160]\u001b[39m\u001b[32m, line 9\u001b[39m, in \u001b[36mroman\u001b[39m\u001b[34m(*i)\u001b[39m\n\u001b[32m      7\u001b[39m \u001b[38;5;28;01mdef\u001b[39;00m\u001b[38;5;250m \u001b[39m\u001b[34mroman\u001b[39m(*i):\n\u001b[32m      8\u001b[39m     \u001b[38;5;28;01mfor\u001b[39;00m i \u001b[38;5;129;01min\u001b[39;00m roman_map:\n\u001b[32m----> \u001b[39m\u001b[32m9\u001b[39m      \u001b[43mnum\u001b[49m+=roman_map.values()\n",
      "\u001b[31mUnboundLocalError\u001b[39m: cannot access local variable 'num' where it is not associated with a value"
     ]
    }
   ],
   "source": [
    "#Write a function that converts roman numerals to numbers\n",
    "roman_map = {'I': 1, 'V': 5, 'X': 10, 'L': 50, 'C': 100, 'D': 500, 'M': 1000}\n",
    "#Input: XIX\n",
    "#Expected Output: 19\n",
    "#3\n",
    "num=0\n",
    "def roman(*i):\n",
    "    for i in roman_map:\n",
    "     num+=roman_map.values()\n",
    "roman('X')"
   ]
  },
  {
   "cell_type": "code",
   "execution_count": null,
   "metadata": {},
   "outputs": [],
   "source": []
  },
  {
   "cell_type": "code",
   "execution_count": 2,
   "metadata": {},
   "outputs": [
    {
     "name": "stdout",
     "output_type": "stream",
     "text": [
      "Odd number !\n"
     ]
    }
   ],
   "source": [
    "number=int(input('Enter any number!!'))\n",
    "if number%2==0:\n",
    "    print('Even number!')\n",
    "else:\n",
    "    print('Odd number !')"
   ]
  },
  {
   "cell_type": "code",
   "execution_count": 22,
   "metadata": {},
   "outputs": [
    {
     "name": "stdout",
     "output_type": "stream",
     "text": [
      "conosant\n"
     ]
    }
   ],
   "source": [
    "character=input('Enter any character plz!').lower()\n",
    "vowels=list('aeuio')\n",
    " \n",
    "if character in vowels:\n",
    "    print('vowel!')\n",
    "elif character.isalpha():\n",
    "    print('conosant')\n",
    "else:\n",
    "    print('invalid!')\n"
   ]
  },
  {
   "cell_type": "code",
   "execution_count": 16,
   "metadata": {},
   "outputs": [
    {
     "name": "stdout",
     "output_type": "stream",
     "text": [
      "['a', 'u', 'i', 'o', 'e']\n",
      "('a', 'u', 'i', 'o', 'e')\n",
      "2332\n"
     ]
    }
   ],
   "source": [
    "a=list('auioe')\n",
    "b=tuple('auioe')\n",
    "c=str(2332)\n",
    "print(a)\n",
    "print(b)\n",
    "print(c)\n",
    "\n"
   ]
  }
 ],
 "metadata": {
  "kernelspec": {
   "display_name": "Python 3",
   "language": "python",
   "name": "python3"
  },
  "language_info": {
   "codemirror_mode": {
    "name": "ipython",
    "version": 3
   },
   "file_extension": ".py",
   "mimetype": "text/x-python",
   "name": "python",
   "nbconvert_exporter": "python",
   "pygments_lexer": "ipython3",
   "version": "3.13.2"
  }
 },
 "nbformat": 4,
 "nbformat_minor": 2
}
