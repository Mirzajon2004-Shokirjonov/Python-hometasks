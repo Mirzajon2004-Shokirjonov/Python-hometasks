{
 "cells": [
  {
   "cell_type": "code",
   "execution_count": 3,
   "id": "a9ed01c9",
   "metadata": {},
   "outputs": [
    {
     "name": "stdout",
     "output_type": "stream",
     "text": [
      "Yosh: 20 yil, 10 oy, 21 kun\n"
     ]
    }
   ],
   "source": [
    "from datetime import datetime, timedelta\n",
    "import pytz\n",
    "import re\n",
    "import time\n",
    "\n",
    "\n",
    "def calculate_age(birthdate_str):\n",
    "    birthdate = datetime.strptime(birthdate_str, '%Y-%m-%d')\n",
    "    today = datetime.today()\n",
    "    delta = today - birthdate\n",
    "    years = delta.days // 365\n",
    "    months = (delta.days % 365) // 30\n",
    "    days = (delta.days % 365) % 30\n",
    "    print(f\"Yosh: {years} yil, {months} oy, {days} kun\")\n",
    "\n",
    "calculate_age('2004-06-24')"
   ]
  },
  {
   "cell_type": "code",
   "execution_count": 5,
   "id": "bd7f8459",
   "metadata": {},
   "outputs": [
    {
     "name": "stdout",
     "output_type": "stream",
     "text": [
      "Keyingi tug'ilgan kungacha qolgan kunlar: 48\n"
     ]
    }
   ],
   "source": [
    "def days_until_next_birthday(birthdate_str):\n",
    "    today = datetime.today()\n",
    "    birthdate = datetime.strptime(birthdate_str, '%Y-%m-%d')\n",
    "    next_birthday = birthdate.replace(year=today.year)\n",
    "    if next_birthday < today:\n",
    "        next_birthday = next_birthday.replace(year=today.year + 1)\n",
    "    delta = next_birthday - today\n",
    "    print(f\"Keyingi tug'ilgan kungacha qolgan kunlar: {delta.days}\")\n",
    "\n",
    "days_until_next_birthday('2004-06-24')\n"
   ]
  },
  {
   "cell_type": "code",
   "execution_count": 6,
   "id": "e5320b4a",
   "metadata": {},
   "outputs": [
    {
     "name": "stdout",
     "output_type": "stream",
     "text": [
      "Uchrashuv tugash vaqti: 2025-05-06 16:30:00\n"
     ]
    }
   ],
   "source": [
    "def meeting_scheduler(start_date_str, hours, minutes):\n",
    "    start_date = datetime.strptime(start_date_str, '%Y-%m-%d %H:%M')\n",
    "    end_date = start_date + timedelta(hours=hours, minutes=minutes)\n",
    "    print(f\"Uchrashuv tugash vaqti: {end_date}\")\n",
    "\n",
    "meeting_scheduler(\"2025-05-06 14:00\", 2, 30)"
   ]
  },
  {
   "cell_type": "code",
   "execution_count": 7,
   "id": "c6d47867",
   "metadata": {},
   "outputs": [
    {
     "name": "stdout",
     "output_type": "stream",
     "text": [
      "Konvertatsiya qilingan vaqt: 2025-05-06 10:00:00+01:00\n"
     ]
    }
   ],
   "source": [
    "def timezone_converter(dt_str, from_tz, to_tz):\n",
    "    from_zone = pytz.timezone(from_tz)\n",
    "    to_zone = pytz.timezone(to_tz)\n",
    "    local_time = from_zone.localize(datetime.strptime(dt_str, '%Y-%m-%d %H:%M'))\n",
    "    converted_time = local_time.astimezone(to_zone)\n",
    "    print(f\"Konvertatsiya qilingan vaqt: {converted_time}\")\n",
    "timezone_converter(\"2025-05-06 14:00\", \"Asia/Tashkent\", \"Europe/London\")"
   ]
  },
  {
   "cell_type": "code",
   "execution_count": 8,
   "id": "dabec6af",
   "metadata": {},
   "outputs": [
    {
     "name": "stdout",
     "output_type": "stream",
     "text": [
      "Vaqt yetdi!: 0:00:00.516411\n"
     ]
    }
   ],
   "source": [
    "\n",
    "from datetime import datetime, timedelta\n",
    "import time\n",
    "import re\n",
    "import pytz\n",
    "def countdown_timer(target_str):\n",
    "    target = datetime.strptime(target_str, '%Y-%m-%d %H:%M:%S')\n",
    "    while True:\n",
    "        now = datetime.now()\n",
    "        if now >= target:\n",
    "            print(\"Vaqt yetdi!\")\n",
    "            break\n",
    "        remaining = target - now\n",
    "        print(f\"Qolgan vaqt: {remaining}\", end='\\r')\n",
    "        time.sleep(1)\n",
    "\n",
    "countdown_timer(\"2025-05-06 19:52:10\")"
   ]
  },
  {
   "cell_type": "code",
   "execution_count": 9,
   "id": "8257e87a",
   "metadata": {},
   "outputs": [
    {
     "name": "stdout",
     "output_type": "stream",
     "text": [
      "Email manzili to'g'ri\n"
     ]
    }
   ],
   "source": [
    "def is_valid_email(email):\n",
    "    pattern = r'^[\\w\\.-]+@[\\w\\.-]+\\.\\w+$'\n",
    "    if re.match(pattern, email):\n",
    "        print(\"Email manzili to'g'ri\")\n",
    "    else:\n",
    "        print(\"Email manzili noto'g'ri\")\n",
    "is_valid_email('mirzajonshokirjonov@gmail.com')"
   ]
  },
  {
   "cell_type": "code",
   "execution_count": 15,
   "id": "e071dd84",
   "metadata": {},
   "outputs": [
    {
     "name": "stdout",
     "output_type": "stream",
     "text": [
      "Formatlangan raqam: (123) 456-7890\n"
     ]
    }
   ],
   "source": [
    "def format_phone_number(number):\n",
    "    number = re.sub(r'\\D', '', number)\n",
    "    if len(number) == 10:\n",
    "        formatted = f\"({number[:3]}) {number[3:6]}-{number[6:]}\"\n",
    "        print(f\"Formatlangan raqam: {formatted}\")\n",
    "    else:\n",
    "        print(\"Telefon raqam 10 raqamdan iborat bo'lishi kerak\")\n",
    "format_phone_number(\"1234567890\")"
   ]
  },
  {
   "cell_type": "code",
   "execution_count": 16,
   "id": "37319849",
   "metadata": {},
   "outputs": [
    {
     "name": "stdout",
     "output_type": "stream",
     "text": [
      "Kuchli parol\n"
     ]
    }
   ],
   "source": [
    "def check_password_strength(password):\n",
    "    length = len(password) >= 8\n",
    "    upper = re.search(r'[A-Z]', password)\n",
    "    lower = re.search(r'[a-z]', password)\n",
    "    digit = re.search(r'\\d', password)\n",
    "    if length and upper and lower and digit:\n",
    "        print(\"Kuchli parol\")\n",
    "    else:\n",
    "        print(\"Parol kuchsiz. Shartlar: min 8 ta belgidan iborat, kamida bitta katta harf, bitta kichik harf va bitta raqam bo'lishi kerak\")\n",
    "\n",
    "check_password_strength(\"StrongPass1\")"
   ]
  },
  {
   "cell_type": "code",
   "execution_count": 18,
   "id": "70188693",
   "metadata": {},
   "outputs": [
    {
     "name": "stdout",
     "output_type": "stream",
     "text": [
      "Topildi 3 marta: indekslar [10, 21, 36]\n"
     ]
    }
   ],
   "source": [
    "def find_word_occurrences(text, word):\n",
    "    matches = [m.start() for m in re.finditer(re.escape(word), text, re.IGNORECASE)]\n",
    "    if matches:\n",
    "        print(f\"Topildi {len(matches)} marta: indekslar {matches}\")\n",
    "    else:\n",
    "        print(\"So'z topilmadi\")\n",
    "\n",
    "find_word_occurrences(\"This is a test. This test is only a test.\", \"test\")"
   ]
  },
  {
   "cell_type": "code",
   "execution_count": 19,
   "id": "e37b74fe",
   "metadata": {},
   "outputs": [
    {
     "name": "stdout",
     "output_type": "stream",
     "text": [
      "Topilgan sanalar: ['2023-10-15', '2024-02-20']\n"
     ]
    }
   ],
   "source": [
    "def extract_dates(text):\n",
    "    pattern = r'\\b\\d{4}-\\d{2}-\\d{2}\\b'\n",
    "    dates = re.findall(pattern, text)\n",
    "    print(\"Topilgan sanalar:\", dates)\n",
    "\n",
    "extract_dates(\"We met on 2023-10-15 and again on 2024-02-20.\")"
   ]
  }
 ],
 "metadata": {
  "kernelspec": {
   "display_name": "Python 3",
   "language": "python",
   "name": "python3"
  },
  "language_info": {
   "codemirror_mode": {
    "name": "ipython",
    "version": 3
   },
   "file_extension": ".py",
   "mimetype": "text/x-python",
   "name": "python",
   "nbconvert_exporter": "python",
   "pygments_lexer": "ipython3",
   "version": "3.13.2"
  }
 },
 "nbformat": 4,
 "nbformat_minor": 5
}
