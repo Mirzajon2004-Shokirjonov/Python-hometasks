{
 "cells": [
  {
   "cell_type": "code",
   "execution_count": 2,
   "metadata": {},
   "outputs": [
    {
     "name": "stdout",
     "output_type": "stream",
     "text": [
      "Mirzajon was born in 2004.Now age is 21\n"
     ]
    }
   ],
   "source": [
    "name=input('What is your name?')\n",
    "year_of_birth=int(input('When were you born?'))\n",
    "your_age=int(2025-year_of_birth)\n",
    "print(f'{name} was born in {year_of_birth}.Now age is {your_age}')"
   ]
  },
  {
   "cell_type": "code",
   "execution_count": 4,
   "metadata": {},
   "outputs": [
    {
     "data": {
      "text/plain": [
       "'Malibu'"
      ]
     },
     "execution_count": 4,
     "metadata": {},
     "output_type": "execute_result"
    }
   ],
   "source": [
    "txt = 'LMaasleitbtui'\n",
    "txt[0::2]\n",
    "txt[1::2]"
   ]
  },
  {
   "cell_type": "code",
   "execution_count": 6,
   "metadata": {},
   "outputs": [
    {
     "data": {
      "text/plain": [
       "'Damas'"
      ]
     },
     "execution_count": 6,
     "metadata": {},
     "output_type": "execute_result"
    }
   ],
   "source": [
    "txt = 'MsaatmiazD'\n",
    "txt[0::2]\n",
    "txt[-1::-2]"
   ]
  },
  {
   "cell_type": "code",
   "execution_count": 8,
   "metadata": {},
   "outputs": [
    {
     "name": "stdout",
     "output_type": "stream",
     "text": [
      "koobkrow\n"
     ]
    }
   ],
   "source": [
    "desired_word=input('Enter desired word')\n",
    "print(desired_word[::-1])"
   ]
  },
  {
   "cell_type": "code",
   "execution_count": 32,
   "metadata": {},
   "outputs": [
    {
     "name": "stdout",
     "output_type": "stream",
     "text": [
      "4\n"
     ]
    }
   ],
   "source": [
    "a='e', 'u', 'i', 'o', 'a'\n",
    "word=input('pls enter word(s)')\n",
    "c=0\n",
    "for i in word:\n",
    "    if i in a:\n",
    "       c+=1\n",
    "print(c)\n",
    "        "
   ]
  },
  {
   "cell_type": "code",
   "execution_count": 2,
   "metadata": {},
   "outputs": [
    {
     "name": "stdout",
     "output_type": "stream",
     "text": [
      "['45', '62', '12', '30']\n",
      "[45, 62, 12, 30]\n",
      "62\n"
     ]
    }
   ],
   "source": [
    "lis_of_numbers = input(' Enter desired numbers by space').split()\n",
    "intnumbers = [int(x) for x in lis_of_numbers]\n",
    "print(lis_of_numbers)\n",
    "print(intnumbers)\n",
    "print(max(lis_of_numbers))"
   ]
  },
  {
   "cell_type": "code",
   "execution_count": 6,
   "metadata": {},
   "outputs": [
    {
     "name": "stdout",
     "output_type": "stream",
     "text": [
      "quduq is palindrome word\n"
     ]
    }
   ],
   "source": [
    "word1=input('Enter word for palindrome test')\n",
    "if word1==word1[::-1]:\n",
    "    print(f'{word1} is palindrome word')\n",
    "else:\n",
    "    print(f'{word1} is not palindrome word')"
   ]
  },
  {
   "cell_type": "code",
   "execution_count": 9,
   "metadata": {},
   "outputs": [
    {
     "name": "stdout",
     "output_type": "stream",
     "text": [
      "gmail.com\n"
     ]
    }
   ],
   "source": [
    "email=input('Enter your email address!!!')\n",
    "result=email[email.find('@')+1:]\n",
    "print(result)"
   ]
  },
  {
   "cell_type": "code",
   "execution_count": 15,
   "metadata": {},
   "outputs": [
    {
     "name": "stdout",
     "output_type": "stream",
     "text": [
      "['^', 'l', 0, '@', 0, 6, 4, 'D', 'G', '^', '%', 'X']\n"
     ]
    }
   ],
   "source": [
    "numbers = [0, 1, 2, 3, 4, 5, 6, 7, 8, 9]\n",
    "symbols = ['!', '@', '#', '$', '%', '^', '&']\n",
    "uppercase_letters =['A', 'B', 'C', 'D', 'E', 'F', 'G', 'H', 'I', 'J', 'K', 'L', 'M','N', 'O', 'P', 'Q', 'R', 'S', 'T', 'U', 'V', 'W', 'X', 'Y', 'Z']\n",
    "lowercase_letters =['a', 'b', 'c', 'd', 'e', 'f', 'g', 'h', 'i', 'j', 'k', 'l', 'm','n', 'o', 'p', 'q', 'r', 's', 't', 'u', 'v', 'w', 'x', 'y', 'z']\n",
    "\n",
    "import random\n",
    "all_letters = uppercase_letters + lowercase_letters\n",
    "nums=int(input('How many naumbers are included in password'))\n",
    "sys=int(input('How many letters in password'))\n",
    "letts=int(input('how many letter in password'))\n",
    " \n",
    "randnums=random.choices(numbers,k=nums)\n",
    "randletts=random.choices( all_letters,k=letts)\n",
    "randsys=random.choices(symbols,k=sys)\n",
    "\n",
    "allchars=list(randletts+randnums+randsys)\n",
    "random.shuffle( allchars)\n",
    "print( (allchars))\n",
    "  \n",
    "\n",
    "\n"
   ]
  },
  {
   "cell_type": "code",
   "execution_count": null,
   "metadata": {},
   "outputs": [],
   "source": [
    " "
   ]
  }
 ],
 "metadata": {
  "kernelspec": {
   "display_name": "Python 3",
   "language": "python",
   "name": "python3"
  },
  "language_info": {
   "codemirror_mode": {
    "name": "ipython",
    "version": 3
   },
   "file_extension": ".py",
   "mimetype": "text/x-python",
   "name": "python",
   "nbconvert_exporter": "python",
   "pygments_lexer": "ipython3",
   "version": "3.13.2"
  }
 },
 "nbformat": 4,
 "nbformat_minor": 2
}
