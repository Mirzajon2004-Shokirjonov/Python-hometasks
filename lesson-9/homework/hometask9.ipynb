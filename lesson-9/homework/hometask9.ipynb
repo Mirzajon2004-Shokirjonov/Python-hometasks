{
 "cells": [
  {
   "cell_type": "code",
   "execution_count": 1,
   "id": "11400b99",
   "metadata": {},
   "outputs": [
    {
     "name": "stdout",
     "output_type": "stream",
     "text": [
      "Radius: 5\n",
      "Yuza (area): 78.53981633974483\n",
      "Perimetr: 31.41592653589793\n"
     ]
    }
   ],
   "source": [
    "import math\n",
    "\n",
    "class Circle:\n",
    "    def __init__(self, radius):\n",
    "        self.radius = radius\n",
    "\n",
    "    def area(self):\n",
    "        return math.pi * self.radius ** 2\n",
    "\n",
    "    def perimeter(self):\n",
    "        return 2 * math.pi * self.radius\n",
    "\n",
    "circle1 = Circle(5)\n",
    "\n",
    "print(\"Radius:\", circle1.radius)\n",
    "print(\"Yuza (area):\", circle1.area())\n",
    "print(\"Perimetr:\", circle1.perimeter())\n"
   ]
  },
  {
   "cell_type": "code",
   "execution_count": 4,
   "id": "c0532b77",
   "metadata": {},
   "outputs": [
    {
     "name": "stdout",
     "output_type": "stream",
     "text": [
      "Ali is 24 years old and from Uzbekistan\n"
     ]
    }
   ],
   "source": [
    "from datetime import datetime\n",
    "\n",
    "class Person:\n",
    "    def __init__(self, name, country, birth_date):  \n",
    "        self.name = name\n",
    "        self.country = country\n",
    "        self.birth_date = datetime.strptime(birth_date, \"%Y-%m-%d\")\n",
    "\n",
    "    def age(self):\n",
    "        today = datetime.today()\n",
    "        age = today.year - self.birth_date.year\n",
    "        if (today.month, today.day) < (self.birth_date.month, self.birth_date.day):\n",
    "            age -= 1\n",
    "        return age\n",
    "\n",
    "person1 = Person(\"Ali\", \"Uzbekistan\", \"2000-05-10\")\n",
    "print(f\"{person1.name} is {person1.age()} years old and from {person1.country}\")\n"
   ]
  },
  {
   "cell_type": "code",
   "execution_count": 10,
   "id": "037da4fb",
   "metadata": {},
   "outputs": [
    {
     "name": "stdout",
     "output_type": "stream",
     "text": [
      "9\n",
      "Nolga bolish mimkin emas!!!!\n"
     ]
    }
   ],
   "source": [
    "class Calculator:\n",
    "    def add(self, a, b):\n",
    "        return a + b\n",
    "\n",
    "    def subtract(self, a, b):\n",
    "        return a - b\n",
    "\n",
    "    def multiply(self, a, b):\n",
    "        return a * b\n",
    "\n",
    "    def divide(self, a, b):\n",
    "        if b != 0:\n",
    "            return a / b\n",
    "        else: \n",
    "            return 'Nolga bo''lish mimkin emas!!!!'\n",
    "\n",
    "# Namuna:\n",
    "calc = Calculator()\n",
    "print(calc.add(4, 5))\n",
    "print(calc.divide(10, 0))\n"
   ]
  },
  {
   "cell_type": "code",
   "execution_count": null,
   "id": "75579a13",
   "metadata": {},
   "outputs": [
    {
     "name": "stdout",
     "output_type": "stream",
     "text": [
      "Doira yuza: 28.274333882308138\n",
      "Uchburchak yuza: 6.0\n"
     ]
    }
   ],
   "source": [
    "import math\n",
    "\n",
    "class Shape:\n",
    "    def area(self):\n",
    "        pass\n",
    "\n",
    "    def perimeter(self):\n",
    "        pass\n",
    "\n",
    "class Circle(Shape):\n",
    "    def __init__(self, radius):\n",
    "        self.radius = radius\n",
    "\n",
    "    def area(self):\n",
    "        return math.pi * self.radius ** 2\n",
    "\n",
    "    def perimeter(self):\n",
    "        return 2 * math.pi * self.radius\n",
    "\n",
    "class Square(Shape):\n",
    "    def __init__(self, side):\n",
    "        self.side = side\n",
    "\n",
    "    def area(self):\n",
    "        return self.side ** 2\n",
    "\n",
    "    def perimeter(self):\n",
    "        return 4 * self.side\n",
    "\n",
    "class Triangle(Shape):\n",
    "    def __init__(self, a, b, c):\n",
    "        self.a, self.b, self.c = a, b, c\n",
    "\n",
    "    def perimeter(self):\n",
    "        return self.a + self.b + self.c\n",
    "\n",
    "    def area(self):\n",
    "        s = self.perimeter() / 2\n",
    "        return math.sqrt(s * (s - self.a) * (s - self.b) * (s - self.c))\n",
    "\n",
    "\n",
    "c = Circle(3)\n",
    "print(\"Doira yuza:\", c.area())\n",
    "\n",
    "t = Triangle(3, 4, 5)\n",
    "print(\"Uchburchak yuzasi:\", t.area())\n"
   ]
  },
  {
   "cell_type": "code",
   "execution_count": 12,
   "id": "aa6f87ea",
   "metadata": {},
   "outputs": [
    {
     "name": "stdout",
     "output_type": "stream",
     "text": [
      "Topildi!\n"
     ]
    }
   ],
   "source": [
    "class Node:\n",
    "    def __init__(self, data):\n",
    "        self.data = data\n",
    "        self.left = None\n",
    "        self.right = None\n",
    "\n",
    "class Binarysearchtree:\n",
    "    def __init__(self):\n",
    "        self.root = None\n",
    "\n",
    "    def insert(self, root, key):\n",
    "        if root is None:\n",
    "            return Node(key)\n",
    "        if key < root.data:\n",
    "            root.left = self.insert(root.left, key)\n",
    "        else:\n",
    "            root.right = self.insert(root.right, key)\n",
    "        return root\n",
    "\n",
    "    def search(self, root, key):\n",
    "        if root is None or root.data == key:\n",
    "            return root\n",
    "        if key < root.data:\n",
    "            return self.search(root.left, key)\n",
    "        return self.search(root.right, key)\n",
    "\n",
    "\n",
    "bst = Binarysearchtree()\n",
    "root = None\n",
    "for value in [50, 30, 70, 20, 40, 60, 80]:\n",
    "    root = bst.insert(root, value)\n",
    "\n",
    "found = bst.search(root, 60)\n",
    "print(\"Topildi!\" if found else \"Topilmadi!\")\n"
   ]
  },
  {
   "cell_type": "code",
   "execution_count": null,
   "id": "4e5219b1",
   "metadata": {},
   "outputs": [
    {
     "name": "stdout",
     "output_type": "stream",
     "text": [
      "20\n",
      "10\n",
      "Stack bo‘sh\n"
     ]
    }
   ],
   "source": [
    "class Stack:\n",
    "    def __init__(self):\n",
    "        self.stack = []\n",
    "\n",
    "    def push(self, item):\n",
    "        self.stack.append(item)\n",
    "\n",
    "    def pop(self):\n",
    "        if not self.is_empty():\n",
    "            return self.stack.pop()\n",
    "        return \"Stack bo'sh\"\n",
    "\n",
    "    def is_empty(self):\n",
    "        return len(self.stack) == 0\n",
    "\n",
    "\n",
    "s = Stack()\n",
    "s.push(10)\n",
    "s.push(20)\n",
    "print(s.pop())  \n",
    "print(s.pop())  \n",
    "print(s.pop())  \n"
   ]
  },
  {
   "cell_type": "code",
   "execution_count": 15,
   "id": "569c61f3",
   "metadata": {},
   "outputs": [
    {
     "name": "stdout",
     "output_type": "stream",
     "text": [
      "30 -> 20 -> 10 -> Mavjud Emas\n",
      "30 -> 10 -> Mavjud Emas\n"
     ]
    }
   ],
   "source": [
    "class Node:\n",
    "    def __init__(self, data):\n",
    "        self.data = data\n",
    "        self.next = None\n",
    "\n",
    "class LinkedList:\n",
    "    def __init__(self):\n",
    "        self.head = None\n",
    "\n",
    "    def insert(self, data):\n",
    "        new_node = Node(data)\n",
    "        new_node.next = self.head\n",
    "        self.head = new_node\n",
    "\n",
    "    def delete(self, key):\n",
    "        temp = self.head\n",
    "        if temp and temp.data == key:\n",
    "            self.head = temp.next\n",
    "            return\n",
    "        prev = None\n",
    "        while temp and temp.data != key:\n",
    "            prev = temp\n",
    "            temp = temp.next\n",
    "        if temp:\n",
    "            prev.next = temp.next\n",
    "\n",
    "    def display(self):\n",
    "        temp = self.head\n",
    "        while temp:\n",
    "            print(temp.data, end=' -> ')\n",
    "            temp = temp.next\n",
    "        print(\"Mavjud Emas\")\n",
    "\n",
    "\n",
    "ll = LinkedList()\n",
    "ll.insert(10)\n",
    "ll.insert(20)\n",
    "ll.insert(30)\n",
    "ll.display()\n",
    "ll.delete(20)\n",
    "ll.display()\n"
   ]
  },
  {
   "cell_type": "code",
   "execution_count": 16,
   "id": "0d63ff98",
   "metadata": {},
   "outputs": [
    {
     "name": "stdout",
     "output_type": "stream",
     "text": [
      "Jami narx: 13\n",
      "Yangi narx: 10\n"
     ]
    }
   ],
   "source": [
    "class ShoppingCart:\n",
    "    def __init__(self):\n",
    "        self.items = {}\n",
    "\n",
    "    def add_item(self, item, price):\n",
    "        self.items[item] = self.items.get(item, 0) + price\n",
    "\n",
    "    def remove_item(self, item):\n",
    "        if item in self.items:\n",
    "            del self.items[item]\n",
    "\n",
    "    def total_price(self):\n",
    "        return sum(self.items.values())\n",
    "\n",
    "\n",
    "cart = ShoppingCart()\n",
    "cart.add_item(\"Olma\", 5)\n",
    "cart.add_item(\"Banan\", 3)\n",
    "cart.add_item(\"Olma\", 5)\n",
    "print(\"Jami narx:\", cart.total_price())\n",
    "cart.remove_item(\"Banan\")\n",
    "print(\"Yangi narx:\", cart.total_price())\n"
   ]
  },
  {
   "cell_type": "code",
   "execution_count": 18,
   "id": "40f9deb0",
   "metadata": {},
   "outputs": [
    {
     "name": "stdout",
     "output_type": "stream",
     "text": [
      "Stack: [5, 10]\n",
      "Chiqarildi: 10\n",
      "Stack: [5]\n"
     ]
    }
   ],
   "source": [
    "class Stack:\n",
    "    def __init__(self):\n",
    "        self.stack = []\n",
    "\n",
    "    def push(self, item):\n",
    "        self.stack.append(item)\n",
    "\n",
    "    def pop(self):\n",
    "        if self.stack:\n",
    "            return self.stack.pop()\n",
    "        return \"Stack bo'sh\"\n",
    "\n",
    "    def display(self):\n",
    "        print(\"Stack:\", self.stack)\n",
    "\n",
    "s = Stack()\n",
    "s.push(5)\n",
    "s.push(10)\n",
    "s.display()\n",
    "print(\"Chiqarildi:\", s.pop())\n",
    "s.display()\n"
   ]
  },
  {
   "cell_type": "code",
   "execution_count": 19,
   "id": "ee181434",
   "metadata": {},
   "outputs": [
    {
     "name": "stdout",
     "output_type": "stream",
     "text": [
      "Queue: ['A', 'B']\n",
      "Chiqarildi: A\n",
      "Queue: ['B']\n"
     ]
    }
   ],
   "source": [
    "class Queue:\n",
    "    def __init__(self):\n",
    "        self.queue = []\n",
    "\n",
    "    def enqueue(self, item):\n",
    "        self.queue.append(item)\n",
    "\n",
    "    def dequeue(self):\n",
    "        if self.queue:\n",
    "            return self.queue.pop(0)\n",
    "        return \"Queue bo'sh\"\n",
    "\n",
    "    def display(self):\n",
    "        print(\"Queue:\", self.queue)\n",
    "q = Queue()\n",
    "q.enqueue(\"A\")\n",
    "q.enqueue(\"B\")\n",
    "q.display()\n",
    "print(\"Chiqarildi:\", q.dequeue())\n",
    "q.display()\n"
   ]
  },
  {
   "cell_type": "code",
   "execution_count": 21,
   "id": "46f1c5b2",
   "metadata": {},
   "outputs": [
    {
     "name": "stdout",
     "output_type": "stream",
     "text": [
      "25000 so'm qo'shildi. Yangi balans: 125000\n",
      "30000 so'm yechildi. Yangi balans: 95000\n",
      "Jasur hisobidagi balans: 95000 so'm\n"
     ]
    }
   ],
   "source": [
    "class BankAccount:\n",
    "    def __init__(self, name, balance=0):\n",
    "        self.name = name\n",
    "        self.balance = balance\n",
    "\n",
    "    def deposit(self, amount):\n",
    "        self.balance += amount\n",
    "        print(f\"{amount} so'm qo'shildi. Yangi balans: {self.balance}\")\n",
    "\n",
    "    def withdraw(self, amount):\n",
    "        if amount <= self.balance:\n",
    "            self.balance -= amount\n",
    "            print(f\"{amount} so'm yechildi. Yangi balans: {self.balance}\")\n",
    "        else:\n",
    "            print(\"Yetarli mablag' mavjud emas.\")\n",
    "\n",
    "    def display(self):\n",
    "        print(f\"{self.name} hisobidagi balans: {self.balance} so'm\")\n",
    "\n",
    "acc = BankAccount(\"Jasur\", 100000)\n",
    "acc.deposit(25000)\n",
    "acc.withdraw(30000)\n",
    "acc.display()\n"
   ]
  },
  {
   "cell_type": "code",
   "execution_count": null,
   "id": "c32466c9",
   "metadata": {},
   "outputs": [],
   "source": []
  }
 ],
 "metadata": {
  "kernelspec": {
   "display_name": "Python 3",
   "language": "python",
   "name": "python3"
  },
  "language_info": {
   "codemirror_mode": {
    "name": "ipython",
    "version": 3
   },
   "file_extension": ".py",
   "mimetype": "text/x-python",
   "name": "python",
   "nbconvert_exporter": "python",
   "pygments_lexer": "ipython3",
   "version": "3.13.2"
  }
 },
 "nbformat": 4,
 "nbformat_minor": 5
}
