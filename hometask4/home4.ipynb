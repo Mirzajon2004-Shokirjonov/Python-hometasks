{
 "cells": [
  {
   "cell_type": "code",
   "execution_count": null,
   "id": "ff6ac707",
   "metadata": {},
   "outputs": [
    {
     "name": "stdout",
     "output_type": "stream",
     "text": [
      "Ascending: {3: 3, 1: 5, 2: 7, 0: 10}\n",
      "Descending: {0: 10, 2: 7, 1: 5, 3: 3}\n"
     ]
    }
   ],
   "source": [
    "my_dict = {0: 10, 1: 5, 2: 7, 3: 3}\n",
    "\n",
    "\n",
    "sorted_asc = dict(sorted(my_dict.items(), key=lambda item: item[1]))\n",
    "print(\"Ascending:\", sorted_asc)\n",
    "\n",
    "sorted_desc = dict(sorted(my_dict.items(), key=lambda item: item[1], reverse=True))\n",
    "print(\"Descending:\", sorted_desc)\n"
   ]
  },
  {
   "cell_type": "code",
   "execution_count": null,
   "id": "24ce97ef",
   "metadata": {},
   "outputs": [],
   "source": [
    "a={0: 10, 1: 20}\n",
    "a.update({2:30})\n"
   ]
  },
  {
   "cell_type": "code",
   "execution_count": 9,
   "id": "ae9f0bab",
   "metadata": {},
   "outputs": [
    {
     "name": "stdout",
     "output_type": "stream",
     "text": [
      "{0: 10, 1: 20, 2: 30}\n"
     ]
    }
   ],
   "source": [
    "print(a)"
   ]
  },
  {
   "cell_type": "code",
   "execution_count": 2,
   "id": "ca993e21",
   "metadata": {},
   "outputs": [
    {
     "name": "stdout",
     "output_type": "stream",
     "text": [
      "{1: 10, 2: 20, 3: 30, 4: 40, 5: 50, 6: 60}\n"
     ]
    }
   ],
   "source": [
    "dic1 = {1: 10, 2: 20}\n",
    "dic2 = {3: 30, 4: 40}\n",
    "dic3 = {5: 50, 6: 60}\n",
    "result = {}\n",
    "result.update(dic1)\n",
    "result.update(dic2)\n",
    "result.update(dic3)\n",
    "\n",
    "print(result)\n"
   ]
  },
  {
   "cell_type": "code",
   "execution_count": 6,
   "id": "c420eb6b",
   "metadata": {},
   "outputs": [
    {
     "name": "stdout",
     "output_type": "stream",
     "text": [
      "{1: 1, 2: 4, 3: 9, 4: 16, 5: 25, 6: 36, 7: 49, 8: 64, 9: 81, 10: 100, 11: 121, 12: 144}\n"
     ]
    }
   ],
   "source": [
    "n=int(input('Enter a number !'))\n",
    "l={}\n",
    "for x in range(1,n+1):\n",
    "    l.update({x:x**2})\n",
    "print(l)\n",
    "\n",
    "     "
   ]
  },
  {
   "cell_type": "code",
   "execution_count": 8,
   "id": "e6ebb37a",
   "metadata": {},
   "outputs": [
    {
     "data": {
      "text/plain": [
       "set"
      ]
     },
     "execution_count": 8,
     "metadata": {},
     "output_type": "execute_result"
    }
   ],
   "source": [
    "set1={1,2,3,4,5,1}\n",
    "type(set1)"
   ]
  },
  {
   "cell_type": "code",
   "execution_count": 9,
   "id": "48ed8490",
   "metadata": {},
   "outputs": [
    {
     "name": "stdout",
     "output_type": "stream",
     "text": [
      "{1, 2, 3, 4, 5}\n"
     ]
    }
   ],
   "source": [
    "print(set1)"
   ]
  },
  {
   "cell_type": "code",
   "execution_count": 32,
   "id": "0946633c",
   "metadata": {},
   "outputs": [
    {
     "name": "stdout",
     "output_type": "stream",
     "text": [
      "Mevalar To'plami\n",
      "date\n",
      "banana\n",
      "cherry\n",
      "apple\n"
     ]
    }
   ],
   "source": [
    "my_set = {\"apple\", \"banana\", \"cherry\", \"date\"}\n",
    "print('Mevalar To\\'plami')\n",
    "for i in my_set:\n",
    "    print(i)"
   ]
  },
  {
   "cell_type": "code",
   "execution_count": 16,
   "id": "351a9c60",
   "metadata": {},
   "outputs": [
    {
     "name": "stdout",
     "output_type": "stream",
     "text": [
      "0-date\n",
      "1-banana\n",
      "2-cherry\n",
      "3-apple\n"
     ]
    }
   ],
   "source": [
    "for i, fruit in enumerate(my_set):\n",
    "    print(f\"{i}-{fruit}\")\n"
   ]
  },
  {
   "cell_type": "code",
   "execution_count": 21,
   "id": "d6afc0e5",
   "metadata": {},
   "outputs": [
    {
     "name": "stdout",
     "output_type": "stream",
     "text": [
      "{'apple', 'date', 'banana', 'cherry', 'peach'}\n"
     ]
    }
   ],
   "source": [
    "my_set.add('peach')\n",
    "print(my_set)"
   ]
  },
  {
   "cell_type": "code",
   "execution_count": 23,
   "id": "1c1c4e41",
   "metadata": {},
   "outputs": [
    {
     "name": "stdout",
     "output_type": "stream",
     "text": [
      "{'date', 'banana', 'cherry', 'peach'}\n"
     ]
    }
   ],
   "source": [
    "my_set.remove('apple')\n",
    "print(my_set)"
   ]
  },
  {
   "cell_type": "code",
   "execution_count": 33,
   "id": "f070fb6f",
   "metadata": {},
   "outputs": [
    {
     "name": "stdout",
     "output_type": "stream",
     "text": [
      "element apple is removed from set\n",
      "Reamained part of set is {'date', 'banana', 'cherry'}\n"
     ]
    }
   ],
   "source": [
    "m=input('What will you remove?')\n",
    "if m in my_set:\n",
    "    my_set.remove(m)\n",
    "    print(f'element {m} is removed from set')\n",
    "else:\n",
    "    print('Set does not include such element!')\n",
    "\n",
    "print(f'Reamained part of set is {my_set}')"
   ]
  }
 ],
 "metadata": {
  "kernelspec": {
   "display_name": "Python 3",
   "language": "python",
   "name": "python3"
  },
  "language_info": {
   "codemirror_mode": {
    "name": "ipython",
    "version": 3
   },
   "file_extension": ".py",
   "mimetype": "text/x-python",
   "name": "python",
   "nbconvert_exporter": "python",
   "pygments_lexer": "ipython3",
   "version": "3.13.2"
  }
 },
 "nbformat": 4,
 "nbformat_minor": 5
}
