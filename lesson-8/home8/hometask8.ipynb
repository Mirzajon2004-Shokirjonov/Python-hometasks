{
 "cells": [
  {
   "cell_type": "code",
   "execution_count": 4,
   "id": "e802af68",
   "metadata": {},
   "outputs": [
    {
     "name": "stdout",
     "output_type": "stream",
     "text": [
      "0 ga bo'lish mumkin emas.\n"
     ]
    }
   ],
   "source": [
    "try:\n",
    "    a = int(input(\"a = \"))\n",
    "    b = int(input(\"b = \"))\n",
    "    print(a / b)\n",
    "except ZeroDivisionError:\n",
    "    print(\"0 ga bo'lish mumkin emas.\")\n",
    "except ValueError:\n",
    "    print(\"Faqat son kiriting.\")\n"
   ]
  },
  {
   "cell_type": "markdown",
   "id": "ff95e807",
   "metadata": {},
   "source": []
  },
  {
   "cell_type": "code",
   "execution_count": 6,
   "id": "cc43ba6d",
   "metadata": {},
   "outputs": [
    {
     "name": "stdout",
     "output_type": "stream",
     "text": [
      "Fayl ochilmoqda...\n",
      "\n"
     ]
    }
   ],
   "source": [
    "try:\n",
    "    file=open('open.txt','r')\n",
    "    content=file.read()\n",
    "    print('Fayl ochilmoqda...')\n",
    "    print(content)\n",
    "except FileNotFoundError:\n",
    "    print('Bu nomdagi fayl topilmad!!!')\n"
   ]
  },
  {
   "cell_type": "code",
   "execution_count": 11,
   "id": "6e78f06a",
   "metadata": {},
   "outputs": [
    {
     "name": "stdout",
     "output_type": "stream",
     "text": [
      "Xatolik: Faqat raqamli qiymatlar kiritish mumkin!\n"
     ]
    }
   ],
   "source": [
    "try:\n",
    "    x = input(\"Birinchi sonni kiriting: \")\n",
    "    y = input(\"Ikkinchi sonni kiriting: \")\n",
    "\n",
    "    if not x.isdigit() or not y.isdigit():\n",
    "        raise TypeError(\"Faqat raqamli qiymatlar kiritish mumkin!\")\n",
    "    \n",
    "except TypeError as e:\n",
    "    print(\"Xatolik:\", e)\n",
    "\n",
    "    "
   ]
  },
  {
   "cell_type": "code",
   "execution_count": 12,
   "id": "cfc5052b",
   "metadata": {},
   "outputs": [
    {
     "name": "stdout",
     "output_type": "stream",
     "text": [
      "Fayl ochilmoqda...\n",
      "\n"
     ]
    }
   ],
   "source": [
    "filename = input(\"Fayl nomini kiriting: \")\n",
    "\n",
    "try:\n",
    "    with open(filename, 'r') as file:\n",
    "        content = file.read()\n",
    "        print(\"Fayl ochilmoqda...\")\n",
    "        print(content)\n",
    "except PermissionError:\n",
    "    print(f\"Xatolik: '{filename}' faylini o‘qish uchun ruxsat yo'q.\")"
   ]
  },
  {
   "cell_type": "code",
   "execution_count": 15,
   "id": "429e354b",
   "metadata": {},
   "outputs": [
    {
     "name": "stdout",
     "output_type": "stream",
     "text": [
      "Xatolik:  list index out of range\n"
     ]
    }
   ],
   "source": [
    "try:\n",
    "  i= int(input('Which Index Do you want!'))\n",
    "  list11=[1,21,23,54]\n",
    "  print(list11[i])\n",
    "  if i>len(list11)-1:\n",
    "    raise IndexError\n",
    "except IndexError as e:\n",
    "  print('Xatolik: ',e)\n"
   ]
  },
  {
   "cell_type": "code",
   "execution_count": 20,
   "id": "ade6a041",
   "metadata": {},
   "outputs": [],
   "source": [
    "try:\n",
    "    num = int(input(\"Biror son kiriting: \"))\n",
    "except KeyboardInterrupt:\n",
    "    print(\"Foydalanuvchi inputni bekor qildi!!!\")\n"
   ]
  },
  {
   "cell_type": "code",
   "execution_count": 21,
   "id": "bd4de8dd",
   "metadata": {},
   "outputs": [
    {
     "name": "stdout",
     "output_type": "stream",
     "text": [
      "Xatolik: division by zero\n"
     ]
    }
   ],
   "source": [
    "try:\n",
    "    x = int(input(\"Birinchi sonni kiriting: \"))\n",
    "    y = int(input(\"Ikkinchi sonni kiriting: \"))\n",
    "    result = x / y\n",
    "    print(f\"Natija: {result}\")\n",
    "except ArithmeticError as e:\n",
    "    print(f\"Xatolik: {e}\")\n"
   ]
  },
  {
   "cell_type": "code",
   "execution_count": 23,
   "id": "bd111cc7",
   "metadata": {},
   "outputs": [
    {
     "name": "stdout",
     "output_type": "stream",
     "text": [
      "Fayl mavjud \n"
     ]
    }
   ],
   "source": [
    "try:\n",
    "    filename = input(\"Fayl nomini kiriting: \")\n",
    "    with open(filename, 'r', encoding='utf-8') as file:\n",
    "        content = file.read()\n",
    "        print(f'Fayl mavjud {content}')\n",
    "except UnicodeDecodeError:\n",
    "    print(\"Xatolik: Faylni o‘qishda kodlash (encoding) muammosi yuz berdi.\")\n"
   ]
  },
  {
   "cell_type": "code",
   "execution_count": 26,
   "id": "1797e415",
   "metadata": {},
   "outputs": [
    {
     "name": "stdout",
     "output_type": "stream",
     "text": [
      "[1, 2, 3, 4]\n",
      "Xatolik: Berilgan attribute mavjud emas.\n",
      "Xato: 'list' object has no attribute 'some_any_method'\n"
     ]
    }
   ],
   "source": [
    "try:\n",
    "    my_list = [1, 2, 3]\n",
    "    my_list.append(4)   \n",
    "    print(my_list)\n",
    "    \n",
    "    \n",
    "    my_list.some_any_method()   \n",
    "except AttributeError as e:\n",
    "    print(\"Xatolik: Berilgan attribute mavjud emas.\")\n",
    "    print(f\"Xato: {e}\")\n"
   ]
  },
  {
   "cell_type": "code",
   "execution_count": null,
   "id": "c761d30c",
   "metadata": {},
   "outputs": [
    {
     "name": "stdout",
     "output_type": "stream",
     "text": [
      "1\n",
      "2\n",
      "3\n",
      "4\n",
      "5"
     ]
    }
   ],
   "source": [
    "n = int(input(\"Nechta birinchi qatordan boshlab o'qilsin: \"))\n",
    "with open('old_numbers.txt', 'r') as file:\n",
    "    for i in range(n):\n",
    "        line = file.readline()\n",
    "        print(line, end='')  \n"
   ]
  },
  {
   "cell_type": "code",
   "execution_count": 37,
   "id": "5252abba",
   "metadata": {},
   "outputs": [
    {
     "name": "stdout",
     "output_type": "stream",
     "text": [
      "1\n",
      "2\n",
      "3\n",
      "4\n",
      "5\n",
      "Yangi qator faylga qo‘shildi.\n",
      "Yangi qator faylga qo‘shildi.\n",
      "Yangi qator faylga qo‘shildi.\n",
      "Yangi qator faylga qo‘shildi.\n",
      "Yangi qator faylga qo‘shildi.\n",
      "Yangi qator faylga qo‘shildi.\n",
      "Yangi qator faylga qo‘shildi.\n"
     ]
    }
   ],
   "source": [
    " \n",
    "with open('old_numbers.txt', 'a') as file:\n",
    "    file.write(\"\\nYangi qator faylga qo‘shildi.\")\n",
    "\n",
    "with open('old_numbers.txt', 'r') as file:\n",
    "    content = file.read()\n",
    "    print(content)\n"
   ]
  },
  {
   "cell_type": "code",
   "execution_count": 38,
   "id": "91df15bd",
   "metadata": {},
   "outputs": [
    {
     "name": "stdout",
     "output_type": "stream",
     "text": [
      "3\n",
      "4\n",
      "5\n",
      "Yangi qator faylga qo‘shildi.\n",
      "Yangi qator faylga qo‘shildi.\n",
      "Yangi qator faylga qo‘shildi.\n",
      "Yangi qator faylga qo‘shildi.\n",
      "Yangi qator faylga qo‘shildi.\n",
      "Yangi qator faylga qo‘shildi.\n",
      "Yangi qator faylga qo‘shildi."
     ]
    }
   ],
   "source": [
    "n = int(input(\"Oxirgi nechta qatorni o'qish kerak:!! \"))\n",
    "with open('old_numbers.txt', 'r') as file:\n",
    "    lines = file.readlines()\n",
    "    for line in lines[-n:]:\n",
    "        print(line, end='')\n"
   ]
  }
 ],
 "metadata": {
  "kernelspec": {
   "display_name": "Python 3",
   "language": "python",
   "name": "python3"
  },
  "language_info": {
   "codemirror_mode": {
    "name": "ipython",
    "version": 3
   },
   "file_extension": ".py",
   "mimetype": "text/x-python",
   "name": "python",
   "nbconvert_exporter": "python",
   "pygments_lexer": "ipython3",
   "version": "3.13.2"
  }
 },
 "nbformat": 4,
 "nbformat_minor": 5
}
