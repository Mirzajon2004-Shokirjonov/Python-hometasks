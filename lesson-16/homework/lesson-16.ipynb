{
 "cells": [
  {
   "cell_type": "code",
   "execution_count": 2,
   "id": "8e41ae65",
   "metadata": {},
   "outputs": [
    {
     "name": "stdout",
     "output_type": "stream",
     "text": [
      "1D NumPy array: [ 12.23  13.32 100.    36.32]\n"
     ]
    }
   ],
   "source": [
    "import numpy as np\n",
    "\n",
    "original_list = [12.23, 13.32, 100, 36.32]\n",
    "array_1d = np.array(original_list)\n",
    "print(\"1D NumPy array:\", array_1d)\n"
   ]
  },
  {
   "cell_type": "code",
   "execution_count": 3,
   "id": "98466780",
   "metadata": {},
   "outputs": [
    {
     "name": "stdout",
     "output_type": "stream",
     "text": [
      "3x3 Matrix from 2 to 10:\n",
      " [[ 2  3  4]\n",
      " [ 5  6  7]\n",
      " [ 8  9 10]]\n"
     ]
    }
   ],
   "source": [
    "import numpy as np\n",
    "\n",
    "matrix_3x3 = np.arange(2, 11).reshape(3, 3)\n",
    "print(\"3x3 Matrix from 2 to 10:\\n\", matrix_3x3)\n"
   ]
  },
  {
   "cell_type": "code",
   "execution_count": 4,
   "id": "c1c53981",
   "metadata": {},
   "outputs": [
    {
     "name": "stdout",
     "output_type": "stream",
     "text": [
      "Null vector: [0. 0. 0. 0. 0. 0. 0. 0. 0. 0.]\n",
      "After updating 6th value to 11: [ 0.  0.  0.  0.  0.  0. 11.  0.  0.  0.]\n"
     ]
    }
   ],
   "source": [
    "import numpy as np\n",
    "\n",
    "null_vector = np.zeros(10)\n",
    "print(\"Null vector:\", null_vector)\n",
    "\n",
    "null_vector[6] = 11\n",
    "print(\"After updating 6th value to 11:\", null_vector)\n"
   ]
  },
  {
   "cell_type": "code",
   "execution_count": 5,
   "id": "38266bc1",
   "metadata": {},
   "outputs": [
    {
     "name": "stdout",
     "output_type": "stream",
     "text": [
      "Array from 12 to 38:\n",
      " [12 13 14 15 16 17 18 19 20 21 22 23 24 25 26 27 28 29 30 31 32 33 34 35\n",
      " 36 37]\n"
     ]
    }
   ],
   "source": [
    "import numpy as np\n",
    "\n",
    "array_12_to_38 = np.arange(12, 38)\n",
    "print(\"Array from 12 to 38:\\n\", array_12_to_38)\n"
   ]
  },
  {
   "cell_type": "code",
   "execution_count": 6,
   "id": "6665137d",
   "metadata": {},
   "outputs": [
    {
     "name": "stdout",
     "output_type": "stream",
     "text": [
      "Original array: [1 2 3 4]\n",
      "Converted to float: [1. 2. 3. 4.]\n"
     ]
    }
   ],
   "source": [
    "import numpy as np\n",
    "\n",
    "int_array = np.array([1, 2, 3, 4])\n",
    "float_array = int_array.astype(float)\n",
    "\n",
    "print(\"Original array:\", int_array)\n",
    "print(\"Converted to float:\", float_array)\n"
   ]
  },
  {
   "cell_type": "code",
   "execution_count": 7,
   "id": "ac978483",
   "metadata": {},
   "outputs": [
    {
     "name": "stdout",
     "output_type": "stream",
     "text": [
      "Centigrade: [-17.78 -11.11   7.34   1.11  37.73   0.  ]\n",
      "Fahrenheit: [-4.0000e-03  1.2002e+01  4.5212e+01  3.3998e+01  9.9914e+01  3.2000e+01]\n"
     ]
    }
   ],
   "source": [
    "import numpy as np\n",
    "\n",
    "centigrade = np.array([-17.78, -11.11, 7.34, 1.11, 37.73, 0.])\n",
    "fahrenheit = centigrade * 9/5 + 32\n",
    "\n",
    "print(\"Centigrade:\", centigrade)\n",
    "print(\"Fahrenheit:\", fahrenheit)\n"
   ]
  },
  {
   "cell_type": "code",
   "execution_count": 8,
   "id": "e271ef3e",
   "metadata": {},
   "outputs": [
    {
     "name": "stdout",
     "output_type": "stream",
     "text": [
      "Original array: [10 20 30]\n",
      "After append: [10 20 30 40 50 60 70 80 90]\n"
     ]
    }
   ],
   "source": [
    "import numpy as np\n",
    "\n",
    "original_array = np.array([10, 20, 30])\n",
    "appended_array = np.append(original_array, [40, 50, 60, 70, 80, 90])\n",
    "\n",
    "print(\"Original array:\", original_array)\n",
    "print(\"After append:\", appended_array)\n"
   ]
  },
  {
   "cell_type": "code",
   "execution_count": 12,
   "id": "f4da0694",
   "metadata": {},
   "outputs": [
    {
     "name": "stdout",
     "output_type": "stream",
     "text": [
      "Array: [0.86290336 0.90332851 0.6122205  0.77654144 0.10757125 0.15073648\n",
      " 0.50504592 0.03906173 0.00937421 0.85661888]\n",
      "Mean: 0.4823402267097189\n",
      "Median: 0.5586332084036362\n",
      "Standard Deviation: 0.351665784517997\n"
     ]
    }
   ],
   "source": [
    "import numpy as np\n",
    "\n",
    "random_array = np.random.rand(10)\n",
    "\n",
    "print(\"Array:\", random_array)\n",
    "print(\"Mean:\", np.mean(random_array))\n",
    "print(\"Median:\", np.median(random_array))\n",
    "print(\"Standard Deviation:\", np.std(random_array))\n"
   ]
  },
  {
   "cell_type": "code",
   "execution_count": 13,
   "id": "5522dcc0",
   "metadata": {},
   "outputs": [
    {
     "name": "stdout",
     "output_type": "stream",
     "text": [
      "10x10 Array:\n",
      " [[0.51297311 0.57848908 0.08350826 0.8583869  0.06137579 0.80028437\n",
      "  0.03289744 0.94292463 0.45713346 0.78154115]\n",
      " [0.92346454 0.35494723 0.88274074 0.48328786 0.89238809 0.34201582\n",
      "  0.28638282 0.22934925 0.23792633 0.48572   ]\n",
      " [0.64145128 0.49071219 0.40102643 0.43496709 0.52049082 0.3942382\n",
      "  0.88457756 0.27153127 0.66342999 0.48532819]\n",
      " [0.71383218 0.23173663 0.98815526 0.27305702 0.05029885 0.7277122\n",
      "  0.77894342 0.37122098 0.39256449 0.18398602]\n",
      " [0.52909158 0.56674559 0.16101204 0.61819711 0.66466672 0.6072975\n",
      "  0.52333317 0.50767842 0.46622313 0.59600636]\n",
      " [0.00482549 0.03626015 0.9950719  0.36132094 0.13382187 0.15053095\n",
      "  0.68011517 0.81157623 0.95449432 0.2563904 ]\n",
      " [0.3516726  0.68649983 0.59455002 0.81027216 0.77590365 0.89714369\n",
      "  0.69199437 0.09760127 0.12855084 0.60514566]\n",
      " [0.20132986 0.42853558 0.43103227 0.57216113 0.75241474 0.4465462\n",
      "  0.0458793  0.95990994 0.38031391 0.73325478]\n",
      " [0.66636754 0.06641572 0.94598547 0.67888063 0.20090545 0.03214858\n",
      "  0.37517342 0.45788252 0.38868758 0.42228233]\n",
      " [0.8092779  0.33573392 0.03858492 0.71725448 0.36122263 0.36145878\n",
      "  0.06067846 0.91163545 0.36797821 0.36464072]]\n",
      "Min: 0.0048254901591855415\n",
      "Max: 0.9950719037545998\n"
     ]
    }
   ],
   "source": [
    "import numpy as np\n",
    "\n",
    "array_10x10 = np.random.rand(10, 10)\n",
    "\n",
    "print(\"10x10 Array:\\n\", array_10x10)\n",
    "print(\"Min:\", np.min(array_10x10))\n",
    "print(\"Max:\", np.max(array_10x10))\n"
   ]
  },
  {
   "cell_type": "code",
   "execution_count": 14,
   "id": "d5420a79",
   "metadata": {},
   "outputs": [
    {
     "name": "stdout",
     "output_type": "stream",
     "text": [
      "3x3x3 Random Array:\n",
      " [[[0.44716352 0.3041506  0.66411591]\n",
      "  [0.07854115 0.49213553 0.86179072]\n",
      "  [0.02379904 0.04179105 0.7651259 ]]\n",
      "\n",
      " [[0.17939656 0.3241788  0.51703362]\n",
      "  [0.95140295 0.66691394 0.00311966]\n",
      "  [0.77685182 0.93821524 0.15588814]]\n",
      "\n",
      " [[0.06808513 0.65406172 0.65825948]\n",
      "  [0.69252414 0.00910051 0.61384614]\n",
      "  [0.80452842 0.732905   0.51506559]]]\n"
     ]
    }
   ],
   "source": [
    "import numpy as np\n",
    "\n",
    "array_3x3x3 = np.random.rand(3, 3, 3)\n",
    "print(\"3x3x3 Random Array:\\n\", array_3x3x3)\n"
   ]
  }
 ],
 "metadata": {
  "kernelspec": {
   "display_name": "Python 3",
   "language": "python",
   "name": "python3"
  },
  "language_info": {
   "codemirror_mode": {
    "name": "ipython",
    "version": 3
   },
   "file_extension": ".py",
   "mimetype": "text/x-python",
   "name": "python",
   "nbconvert_exporter": "python",
   "pygments_lexer": "ipython3",
   "version": "3.13.2"
  }
 },
 "nbformat": 4,
 "nbformat_minor": 5
}
