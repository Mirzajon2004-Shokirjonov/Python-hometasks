{
 "cells": [
  {
   "cell_type": "code",
   "execution_count": 13,
   "id": "e24ccb51",
   "metadata": {},
   "outputs": [
    {
     "data": {
      "text/plain": [
       "True"
      ]
     },
     "execution_count": 13,
     "metadata": {},
     "output_type": "execute_result"
    }
   ],
   "source": [
    "def is_leapyear(year):\n",
    "    if not isinstance(year, int):\n",
    "        raise ValueError(\"Year must be an integer.\")\n",
    "    return (year % 4 == 0 and year % 100 != 0) or (year % 400 == 0)\n",
    "\n",
    "is_leapyear(-7240)"
   ]
  },
  {
   "cell_type": "code",
   "execution_count": 5,
   "id": "2908dcc3",
   "metadata": {},
   "outputs": [
    {
     "name": "stdout",
     "output_type": "stream",
     "text": [
      "Weird\n"
     ]
    }
   ],
   "source": [
    "n=int(input('Enter a number!'))\n",
    "if n%2==1:\n",
    "    print('Weird')\n",
    "elif n%2==0 and 2<=n<=5 :\n",
    "    print('Not Weird')\n",
    "elif n%2==0 and 6<=n<=20 :\n",
    "    print('Weird')\n",
    "elif n%2==0 and n>20:\n",
    "    print('Not Weird')\n",
    "    \n"
   ]
  },
  {
   "cell_type": "code",
   "execution_count": null,
   "id": "31864ab9",
   "metadata": {},
   "outputs": [],
   "source": [
    "a=int(input('Enter a desired number '))\n",
    "b=int(input('Enter a desired number '))\n",
    "if a>b and b%2==0:\n",
    "    b+=2\n"
   ]
  },
  {
   "cell_type": "code",
   "execution_count": 33,
   "id": "b2126214",
   "metadata": {},
   "outputs": [
    {
     "name": "stdout",
     "output_type": "stream",
     "text": [
      "Even numbers: [2, 4, 6, 8, 10, 12]\n"
     ]
    }
   ],
   "source": [
    "a = int(input(\"Enter a: \"))\n",
    "b = int(input(\"Enter b: \"))\n",
    "\n",
    "if a > b:\n",
    "    even_numbers = list(range(a if a % 2 == 0 else a - 1,b-1, -2))\n",
    "else:\n",
    "    even_numbers = list(range(a if a % 2 == 0 else a + 1, b + 1, 2))\n",
    "\n",
    "print(\"Even numbers:\", even_numbers)\n"
   ]
  },
  {
   "cell_type": "code",
   "execution_count": 42,
   "id": "f89cde3b",
   "metadata": {},
   "outputs": [
    {
     "name": "stdout",
     "output_type": "stream",
     "text": [
      "[3, 5, 7, 9, 11]\n"
     ]
    }
   ],
   "source": [
    "a=int(input('Enter a:'))\n",
    "b=int(input('Enter b:'))\n",
    "if a > b:\n",
    "    odd_numbers=list(range(b if  b%2==1 else b+1,a+1,2))\n",
    "else:\n",
    "    odd_numbers=list(range(a if  a%2==1 else a+1,b+1,2))\n",
    "\n",
    "print(odd_numbers)\n",
    "\n",
    "\n"
   ]
  },
  {
   "cell_type": "code",
   "execution_count": 5,
   "id": "8ea4fbc4",
   "metadata": {},
   "outputs": [
    {
     "name": "stdout",
     "output_type": "stream",
     "text": [
      "[12, 2]\n",
      "12\n"
     ]
    }
   ],
   "source": [
    "a=int(input('Enter a:'))\n",
    "b=int(input('Enter b:'))\n",
    "c=[a,b]\n",
    "\n",
    "print(c)\n",
    "\n",
    "maxer=int(max(c))\n",
    "print(maxer)\n"
   ]
  },
  {
   "cell_type": "code",
   "execution_count": 9,
   "id": "60a1e09b",
   "metadata": {},
   "outputs": [
    {
     "name": "stdout",
     "output_type": "stream",
     "text": [
      "[11, 13, 15, 17, 19, 21]\n"
     ]
    }
   ],
   "source": [
    "a=int(input('Enter a:'))\n",
    "b=int(input('Enter b:'))\n",
    "c=[a,b]\n",
    "\n",
    "maxi=int(max(c))\n",
    "mini=int(min(c))\n",
    "\n",
    "odd_numbers=list(range(mini if  mini%2==1 else mini+1,maxi+1,2))\n",
    "\n",
    "print(odd_numbers)\n"
   ]
  },
  {
   "cell_type": "code",
   "execution_count": 46,
   "id": "1b9a24bb",
   "metadata": {},
   "outputs": [
    {
     "name": "stdout",
     "output_type": "stream",
     "text": [
      "10\n"
     ]
    }
   ],
   "source": [
    "x=int(input('Enter a number'))\n",
    "y=int(input('Enter a number'))\n",
    "z=int(input('Enter a number'))\n",
    "if x>=y and x>=z:\n",
    "    print(x)\n",
    "elif y>=z and y>=x:\n",
    "    print(y)\n",
    "elif z>=x and z>=y:\n",
    "    print(z)\n"
   ]
  },
  {
   "cell_type": "code",
   "execution_count": 51,
   "id": "90d33b4a",
   "metadata": {},
   "outputs": [
    {
     "name": "stdout",
     "output_type": "stream",
     "text": [
      "[1, 2, 'Fizz', 4, 'Buzz', 'Fizz', 7, 8, 'Fizz', 'Buzz', 11, 'Fizz', 13, 14, 'Fizz', 16, 17, 'Fizz']\n"
     ]
    }
   ],
   "source": [
    "n=int(input('Enter a number'))\n",
    "n1=list('Fizz'if x%3==0 else 'Buzz' if x%5==0 else 'FizzBuzz' if  x%5==0 and x%3==0 else x for x in  range(1,n+1))\n",
    "print(n1)\n",
    "\n",
    "\n"
   ]
  },
  {
   "cell_type": "code",
   "execution_count": 53,
   "id": "47d4cae8",
   "metadata": {},
   "outputs": [
    {
     "name": "stdout",
     "output_type": "stream",
     "text": [
      "1 2 Fizz 4 Buzz Fizz 7 8 Fizz Buzz 11 Fizz 13 14 FizzBuzz 16 17 Fizz 19 Buzz Fizz 22\n"
     ]
    }
   ],
   "source": [
    "n = int(input(\"Enter a number: \"))\n",
    "\n",
    "# Create the FizzBuzz sequence using list comprehension\n",
    "fizzbuzz_sequence = [\n",
    "    \"FizzBuzz\" if i % 3 == 0 and i % 5 == 0 else\n",
    "    \"Fizz\" if i % 3 == 0 else\n",
    "    \"Buzz\" if i % 5 == 0 else\n",
    "    str(i)\n",
    "    for i in range(1, n + 1)\n",
    "]\n",
    "\n",
    "# Join the results with a space in between\n",
    "print(\" \".join(fizzbuzz_sequence))\n"
   ]
  },
  {
   "cell_type": "code",
   "execution_count": null,
   "id": "abe61988",
   "metadata": {},
   "outputs": [],
   "source": []
  }
 ],
 "metadata": {
  "kernelspec": {
   "display_name": "Python 3",
   "language": "python",
   "name": "python3"
  },
  "language_info": {
   "codemirror_mode": {
    "name": "ipython",
    "version": 3
   },
   "file_extension": ".py",
   "mimetype": "text/x-python",
   "name": "python",
   "nbconvert_exporter": "python",
   "pygments_lexer": "ipython3",
   "version": "3.13.2"
  }
 },
 "nbformat": 4,
 "nbformat_minor": 5
}
