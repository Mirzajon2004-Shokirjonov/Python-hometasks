{
 "cells": [
  {
   "cell_type": "code",
   "execution_count": 1,
   "metadata": {},
   "outputs": [
    {
     "name": "stdout",
     "output_type": "stream",
     "text": [
      "apricot\n"
     ]
    }
   ],
   "source": [
    "fruits=['apple','peach','apricot','banana','orange']\n",
    "print(fruits[2])"
   ]
  },
  {
   "cell_type": "code",
   "execution_count": null,
   "metadata": {},
   "outputs": [
    {
     "name": "stdout",
     "output_type": "stream",
     "text": [
      "['1', '2', '3', '4', '5', '6', '7', '8']\n"
     ]
    },
    {
     "data": {
      "text/plain": [
       "'8'"
      ]
     },
     "execution_count": 6,
     "metadata": {},
     "output_type": "execute_result"
    }
   ],
   "source": [
    "list1=['1','2','3','4']\n",
    "list2=['5','6','7','8']\n",
    "list3=list1+list2\n",
    "print(list3)\n",
    "list3[0]\n",
    "list3"
   ]
  },
  {
   "cell_type": "code",
   "execution_count": 7,
   "metadata": {},
   "outputs": [
    {
     "data": {
      "text/plain": [
       "['1', '5', '8']"
      ]
     },
     "execution_count": 7,
     "metadata": {},
     "output_type": "execute_result"
    }
   ],
   "source": [
    "list4=[list3[0],list3[(len(list3)//2)],list3[-1]]\n",
    "list4"
   ]
  },
  {
   "cell_type": "code",
   "execution_count": 8,
   "metadata": {},
   "outputs": [
    {
     "name": "stdout",
     "output_type": "stream",
     "text": [
      "('Avengers', 'Batman', 'Ice Age', 'Tomorraw war', 'Alfa', 'Mission Impossible')\n"
     ]
    }
   ],
   "source": [
    "movies=['Avengers','Batman','Ice Age','Tomorraw war','Alfa','Mission Impossible']\n",
    "mov_tuple=tuple(movies)\n",
    "print(mov_tuple)"
   ]
  },
  {
   "cell_type": "code",
   "execution_count": 13,
   "metadata": {},
   "outputs": [
    {
     "name": "stdout",
     "output_type": "stream",
     "text": [
      "Paris\n"
     ]
    }
   ],
   "source": [
    "cities=['London','Istanbul','Dushanbe','Paris','Bishkek','Tashkent','Tokio','Seoul']\n",
    "x='Paris'\n",
    "for i in cities:\n",
    "    if i==x:\n",
    "        print(i)\n",
    "    "
   ]
  },
  {
   "cell_type": "code",
   "execution_count": null,
   "metadata": {},
   "outputs": [
    {
     "data": {
      "text/plain": [
       "['1', '2', '3', '4', '5', '6', '7', '8']"
      ]
     },
     "execution_count": 16,
     "metadata": {},
     "output_type": "execute_result"
    }
   ],
   "source": [
    "listcopy=list3.copy()\n",
    "listcopy"
   ]
  },
  {
   "cell_type": "code",
   "execution_count": 19,
   "metadata": {},
   "outputs": [
    {
     "data": {
      "text/plain": [
       "['8', '2', '3', '4', '5', '6', '7', '1']"
      ]
     },
     "execution_count": 19,
     "metadata": {},
     "output_type": "execute_result"
    }
   ],
   "source": [
    "listcopy[0],listcopy[-1]=listcopy[-1],listcopy[0]\n",
    "listcopy"
   ]
  },
  {
   "cell_type": "code",
   "execution_count": 26,
   "metadata": {},
   "outputs": [
    {
     "data": {
      "text/plain": [
       "('4', '5', '6', '7')"
      ]
     },
     "execution_count": 26,
     "metadata": {},
     "output_type": "execute_result"
    }
   ],
   "source": [
    "tuplerange=('1','2','3','4','5','6','7','8','9','10')\n",
    "tuplerange[3:7]\n",
    "  "
   ]
  },
  {
   "cell_type": "code",
   "execution_count": 28,
   "metadata": {},
   "outputs": [
    {
     "data": {
      "text/plain": [
       "2"
      ]
     },
     "execution_count": 28,
     "metadata": {},
     "output_type": "execute_result"
    }
   ],
   "source": [
    "colors = ['red', 'blue', 'green', 'yellow','blue', 'orange', 'purple', 'pink', 'brown', 'black', 'white']\n",
    "colors.count('blue')"
   ]
  },
  {
   "cell_type": "code",
   "execution_count": 29,
   "metadata": {},
   "outputs": [
    {
     "data": {
      "text/plain": [
       "('12', '13', '14', '15', '16', '17', '18', '19', '20', '21', '22')"
      ]
     },
     "execution_count": 29,
     "metadata": {},
     "output_type": "execute_result"
    }
   ],
   "source": [
    "tuple1=('12','13','14','15','16')\n",
    "tuple2=('17','18','19','20','21','22')\n",
    "tuple3=tuple1+tuple2\n",
    "tuple3"
   ]
  },
  {
   "cell_type": "code",
   "execution_count": 31,
   "metadata": {},
   "outputs": [
    {
     "name": "stdout",
     "output_type": "stream",
     "text": [
      "8\n",
      "11\n"
     ]
    }
   ],
   "source": [
    "a=len(listcopy)\n",
    "b=len(tuple3)\n",
    "print(a)\n",
    "print(b)\n"
   ]
  },
  {
   "cell_type": "code",
   "execution_count": 32,
   "metadata": {},
   "outputs": [
    {
     "data": {
      "text/plain": [
       "['12', '13', '14', '15', '16', '17', '18', '19', '20', '21', '22']"
      ]
     },
     "execution_count": 32,
     "metadata": {},
     "output_type": "execute_result"
    }
   ],
   "source": [
    "newlist=list(tuple3)\n",
    "newlist"
   ]
  },
  {
   "cell_type": "code",
   "execution_count": 34,
   "metadata": {},
   "outputs": [
    {
     "name": "stdout",
     "output_type": "stream",
     "text": [
      "22\n",
      "12\n"
     ]
    }
   ],
   "source": [
    "maxr=max(tuple3)\n",
    "maxr\n",
    "minr=min(tuple3)\n",
    "print(maxr)\n",
    "print(minr)"
   ]
  },
  {
   "cell_type": "code",
   "execution_count": 37,
   "metadata": {},
   "outputs": [
    {
     "name": "stdout",
     "output_type": "stream",
     "text": [
      "('farosat', 'ilm', 'zakovat', 'salohiyat')\n"
     ]
    }
   ],
   "source": [
    "revere_tuple=('salohiyat','zakovat','ilm','farosat')\n",
    "r=revere_tuple[::-1]\n",
    "print(r)"
   ]
  },
  {
   "cell_type": "code",
   "execution_count": 2,
   "metadata": {},
   "outputs": [
    {
     "name": "stdout",
     "output_type": "stream",
     "text": [
      "1\n",
      "2\n",
      "3\n",
      "4\n",
      "6\n",
      "7\n",
      "8\n",
      "9\n",
      "10\n"
     ]
    }
   ],
   "source": [
    "for i in range(1, 11):\n",
    "    if i == 5:\n",
    "        continue  # Loop shu yerda to‘xtaydi\n",
    "    print(i)\n"
   ]
  },
  {
   "cell_type": "code",
   "execution_count": 6,
   "metadata": {},
   "outputs": [
    {
     "name": "stdout",
     "output_type": "stream",
     "text": [
      "qizil - S\n",
      "qizil - M\n",
      "qizil - L\n",
      "yashil - S\n",
      "yashil - M\n",
      "yashil - L\n",
      "ko‘k - S\n",
      "ko‘k - M\n",
      "ko‘k - L\n"
     ]
    }
   ],
   "source": [
    "colors = [\"qizil\", \"yashil\", \"ko‘k\"]\n",
    "sizes = [\"S\", \"M\", \"L\"]\n",
    "\n",
    "for color in colors:\n",
    "    for size in sizes:\n",
    "        print(f\"{color} - {size}\")\n"
   ]
  },
  {
   "cell_type": "code",
   "execution_count": 8,
   "metadata": {},
   "outputs": [
    {
     "name": "stdout",
     "output_type": "stream",
     "text": [
      "42\n"
     ]
    }
   ],
   "source": [
    "kopaytirish = lambda a, b: a * b\n",
    "print(kopaytirish(3,14))  # 12\n"
   ]
  },
  {
   "cell_type": "code",
   "execution_count": null,
   "metadata": {},
   "outputs": [],
   "source": [
    "first_file=old_numbers()"
   ]
  }
 ],
 "metadata": {
  "kernelspec": {
   "display_name": "Python 3",
   "language": "python",
   "name": "python3"
  },
  "language_info": {
   "codemirror_mode": {
    "name": "ipython",
    "version": 3
   },
   "file_extension": ".py",
   "mimetype": "text/x-python",
   "name": "python",
   "nbconvert_exporter": "python",
   "pygments_lexer": "ipython3",
   "version": "3.13.2"
  }
 },
 "nbformat": 4,
 "nbformat_minor": 2
}
