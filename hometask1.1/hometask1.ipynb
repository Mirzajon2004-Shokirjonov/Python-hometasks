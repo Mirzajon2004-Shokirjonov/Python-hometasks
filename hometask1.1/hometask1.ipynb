{
 "cells": [
  {
   "cell_type": "code",
   "execution_count": 4,
   "metadata": {},
   "outputs": [
    {
     "name": "stdout",
     "output_type": "stream",
     "text": [
      "28.0 sm\n",
      "49.0 smsqr\n"
     ]
    }
   ],
   "source": [
    "a=float(input('Enter amount of square side'))\n",
    "P=4*a\n",
    "A=a**2\n",
    "print(P,'sm')\n",
    "print(A,'smsqr')\n"
   ]
  },
  {
   "cell_type": "code",
   "execution_count": 6,
   "metadata": {},
   "outputs": [
    {
     "name": "stdout",
     "output_type": "stream",
     "text": [
      "37.714285714285715\n"
     ]
    }
   ],
   "source": [
    "diameter=float(input('what is diameter of circle'))\n",
    "length_of_circle=diameter*22/7\n",
    "print(length_of_circle)\n"
   ]
  },
  {
   "cell_type": "code",
   "execution_count": 8,
   "metadata": {},
   "outputs": [
    {
     "name": "stdout",
     "output_type": "stream",
     "text": [
      "29.0\n"
     ]
    }
   ],
   "source": [
    "a=float(input('Enter first number'))\n",
    "b=float(input('Enter second number'))\n",
    "mean=(a+b)/2\n",
    "print(mean)"
   ]
  },
  {
   "cell_type": "code",
   "execution_count": 9,
   "metadata": {},
   "outputs": [
    {
     "name": "stdout",
     "output_type": "stream",
     "text": [
      "8.72\n",
      "15.0096\n",
      "5.569599999999999\n",
      "40.449600000000004\n"
     ]
    }
   ],
   "source": [
    "first_number=float(input('What is first number?'))\n",
    "second_number=float(input('What is second number?'))\n",
    "sum=first_number+second_number\n",
    "product=first_number*second_number\n",
    "first_number_square=pow(first_number,2)\n",
    "second_number_square=pow(second_number,2)\n",
    "print(sum)\n",
    "print(product)\n",
    "print(first_number_square)\n",
    "print(second_number_square)"
   ]
  }
 ],
 "metadata": {
  "kernelspec": {
   "display_name": "Python 3",
   "language": "python",
   "name": "python3"
  },
  "language_info": {
   "codemirror_mode": {
    "name": "ipython",
    "version": 3
   },
   "file_extension": ".py",
   "mimetype": "text/x-python",
   "name": "python",
   "nbconvert_exporter": "python",
   "pygments_lexer": "ipython3",
   "version": "3.13.2"
  }
 },
 "nbformat": 4,
 "nbformat_minor": 2
}
