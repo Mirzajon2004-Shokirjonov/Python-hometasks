{
 "cells": [
  {
   "cell_type": "code",
   "execution_count": 16,
   "id": "a91ddc56",
   "metadata": {},
   "outputs": [
    {
     "name": "stdout",
     "output_type": "stream",
     "text": [
      "3\n",
      "5\n",
      "[3, 5]\n"
     ]
    }
   ],
   "source": [
    "list1=[1,2,3,4,5]\n",
    "list2=[3,9,6,10,5]\n",
    "list3=[]\n",
    " \n",
    "for i  in list1:\n",
    "    for j in list2:\n",
    "     if i==j:\n",
    "          list3.append(i)\n",
    "\n",
    "for x in list3:\n",
    "   print(x)\n",
    "print(list3)\n"
   ]
  },
  {
   "cell_type": "code",
   "execution_count": 17,
   "id": "17e8dab8",
   "metadata": {},
   "outputs": [
    {
     "name": "stdout",
     "output_type": "stream",
     "text": [
      "[1, 2, 3, 4]\n"
     ]
    }
   ],
   "source": [
    "r=list1.remove(x)\n",
    "print(list1)"
   ]
  },
  {
   "cell_type": "code",
   "execution_count": null,
   "id": "d8383a96",
   "metadata": {},
   "outputs": [
    {
     "name": "stdout",
     "output_type": "stream",
     "text": [
      "Common elements: [1, 2, 4, 6, 9, 10]\n"
     ]
    }
   ],
   "source": [
    "#learned from chatgpt\n",
    "list1 = [1, 2, 3, 4, 5]\n",
    "list2 = [3, 9, 6, 10, 5]\n",
    "\n",
    "# Using set intersection to find uncommon elements\n",
    "list3 = list(set(list1) ^ set(list2))\n",
    "\n",
    "print(\"Common elements:\", list3)\n"
   ]
  },
  {
   "cell_type": "code",
   "execution_count": null,
   "id": "f468b53d",
   "metadata": {},
   "outputs": [
    {
     "name": "stdout",
     "output_type": "stream",
     "text": [
      "Uncommon elements: [1, 2, 4, 9, 6, 10]\n"
     ]
    }
   ],
   "source": [
    "list1 = [1, 2, 3, 4, 5]\n",
    "list2 = [3, 9, 6, 10, 5]\n",
    "list3 = []\n",
    "\n",
    "\n",
    "for i in list1:\n",
    "    if i not in list2:\n",
    "        list3.append(i)\n",
    "\n",
    "for j in list2:\n",
    "    if j not in list1:\n",
    "        list3.append(j)\n",
    "\n",
    "print(\"Uncommon elements:\", list3)\n"
   ]
  },
  {
   "cell_type": "code",
   "execution_count": 10,
   "id": "397cfb6b",
   "metadata": {},
   "outputs": [
    {
     "name": "stdout",
     "output_type": "stream",
     "text": [
      "he\n",
      "ass_alom\n",
      "abc_abc_dab_cdeabc_def_abc_def_g\n"
     ]
    }
   ],
   "source": [
    "def add_underscore(txt):\n",
    "    vowels = 'aeiou'\n",
    "    result = []\n",
    "\n",
    "    for i in range(len(txt)):\n",
    "        result.append(txt[i])\n",
    "        \n",
    "         \n",
    "        if (i + 1) % 3 == 0:\n",
    "             if txt[i] not in vowels:\n",
    "                result.append('_')\n",
    "\n",
    "    return ''.join(result)\n",
    "\n",
    " \n",
    "print(add_underscore(\"he\"))  \n",
    "print(add_underscore(\"assalom\"))  \n",
    "print(add_underscore(\"abcabcdabcdeabcdefabcdefg\")) \n"
   ]
  },
  {
   "cell_type": "code",
   "execution_count": 42,
   "id": "ad0edd8a",
   "metadata": {},
   "outputs": [
    {
     "name": "stdout",
     "output_type": "stream",
     "text": [
      "ass_alom\n"
     ]
    }
   ],
   "source": [
    "vovels='euioa'\n",
    "result=[]\n",
    "text1=input('enter a word')\n",
    "for i in range(len(text1)):\n",
    "    result.append(text1[i])\n",
    "\n",
    "    if (i+1)%3==0:\n",
    "        if text1[i] not in vovels:\n",
    "            result.append('_')\n",
    "\n",
    "print(''.join(result))\n"
   ]
  }
 ],
 "metadata": {
  "kernelspec": {
   "display_name": "Python 3",
   "language": "python",
   "name": "python3"
  },
  "language_info": {
   "codemirror_mode": {
    "name": "ipython",
    "version": 3
   },
   "file_extension": ".py",
   "mimetype": "text/x-python",
   "name": "python",
   "nbconvert_exporter": "python",
   "pygments_lexer": "ipython3",
   "version": "3.13.2"
  }
 },
 "nbformat": 4,
 "nbformat_minor": 5
}
